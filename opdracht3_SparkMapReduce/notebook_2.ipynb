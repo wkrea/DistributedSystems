{
 "cells": [
  {
   "cell_type": "markdown",
   "metadata": {
    "collapsed": true,
    "pycharm": {
     "name": "#%% md\n"
    }
   },
   "source": [
    "In this exercise we determine the number of stops for each town.\n",
    "\n",
    "First we initialise PySpark.\n"
   ]
  },
  {
   "cell_type": "code",
   "execution_count": 1,
   "metadata": {
    "pycharm": {
     "is_executing": false,
     "name": "#%%\n"
    }
   },
   "outputs": [],
   "source": [
    "from pyspark import SparkContext\n",
    "\n",
    "sc = SparkContext.getOrCreate()\n"
   ]
  },
  {
   "cell_type": "markdown",
   "metadata": {
    "pycharm": {
     "name": "#%% md\n"
    }
   },
   "source": [
    "We first read all the stops. The specified file is a preprocessed version of the JSON \"stops.txt\", in which \n",
    "each line contains one stop in the format \n",
    "\n",
    "halte_id;halte_name;lat;long;town_name. \n",
    "\n",
    "This makes it easier\n",
    "to parse since it only requires a call to str.split().\n",
    "\n",
    "Next we filter out all the stops that don't have a town specified since we cannot process these otherwise. This\n",
    "is done using a simple filter.\n",
    "\n",
    "In order to combine the stops and count them we map each stop to (town-name, 1). \n",
    "\n",
    "And then we add all the tuples as (X, n) + (X, m) = (X, n + m) using the reduceByKey method which combines all tuples\n",
    "that have the first element in common.\n"
   ]
  },
  {
   "cell_type": "code",
   "execution_count": 2,
   "metadata": {
    "pycharm": {
     "is_executing": false,
     "name": "#%%\n"
    }
   },
   "outputs": [],
   "source": [
    "stops_per_town = sc.textFile(\"./converted_stops.csv\").map(lambda x: x.split(\";\")).filter(lambda x: x[4] != '').map(lambda x: (x[4], 1)).reduceByKey(lambda x,y: x + y).collect()\n"
   ]
  },
  {
   "cell_type": "markdown",
   "metadata": {
    "pycharm": {
     "name": "#%% md\n"
    }
   },
   "source": [
    "Finally we print the output.\n"
   ]
  },
  {
   "cell_type": "code",
   "execution_count": 3,
   "metadata": {
    "pycharm": {
     "is_executing": false,
     "name": "#%%\n"
    }
   },
   "outputs": [
    {
     "name": "stdout",
     "text": [
      "Nijlen: 40\nBanneux: 10\nHuldenberg: 30\nWilskerke: 3\nDoel: 13\nAvekapelle: 8\nWijgmaal: 24\nBurcht: 22\nPamel: 31\nBudingen: 36\nDeerlijk: 66\nNiel-Bij-As: 6\nEllikom: 16\nKuurne: 71\nSPV: 14\nWulveringem: 10\nEkeren: 58\nPeutie: 18\nHolheide: 1\nHeukelom: 13\nAalbeke: 8\nPeer: 55\nHeers: 26\nTusvoort: 2\nOudenaarde: 69\nOedelem: 47\nBeverst: 12\nSpurk: 6\nNederbrakel: 49\nBree: 99\nWimmertingen: 4\nElen: 23\nSint-Rochus: 15\nMunte: 4\nMelsele: 21\nNeerlinter: 16\nGooik: 40\nPoederlee: 12\nIchtegem: 40\nWezembeek-Oppem: 14\nSint-Amandsberg: 54\nMater: 31\nKampenhout: 22\nLanklaar: 38\nHelkijn: 12\nStokrooie: 18\nOpitter: 33\nOordegem: 24\nNederhasselt: 16\nKaster: 7\nMeerle: 13\nWebbekom: 18\nSchorisse: 21\nReet: 37\nIeper: 100\nOlmen: 18\nSint-Maria-Horebeke: 22\nPoppel: 16\nGenendijk: 3\nElsene: 9\nRumbeke: 40\nBerg: 20\nDiest: 65\nKoekelare: 59\nKwatrecht: 18\nHoeilaart: 44\nSchiplaken: 2\nUlbeek: 15\nOud-Turnhout: 47\nArdooie: 46\nOpvelp: 10\nZelem: 36\nLoenhout: 28\nKrombeke: 13\nZwankendamme: 3\nWestrem: 10\nOeren: 1\nSint-Jansteen: 6\nEngelmanshoven: 7\nBelzele: 2\nMO: 14\nDe Haan: 19\nSterrebeek: 26\nTilburg: 10\nDenderhoutem: 38\nWolvertem: 55\nOkegem: 12\nMaaseik: 46\nSint-Laureins-Berchem: 12\nCorswarem: 8\nKerksken: 20\nGontrode: 10\nBavegem: 13\nEisden: 50\nWestkapelle: 25\nWintam: 11\nBerloz: 13\nHove: 37\nBierges: 19\nAttenhoven: 16\nMoorsele: 34\nVliermaalroot: 15\nOostkamp: 60\nSchoor: 4\nSint-Gillis-Bij-Dendermonde: 20\nVoormezele: 15\nOlsene: 14\nGistel: 22\nVorselaar: 15\nStal: 16\nViane: 23\nRotem: 34\nBevingen: 6\nHeppen: 39\nZussen: 12\nSint-Pauwels: 26\nHollebeke: 5\nBetekom: 25\nOuwegem: 15\nNerem: 10\nNederename: 11\nNieuwmoer: 18\nZillebeke: 25\nSint-Anna-Pede: 6\nKleine-Spouwen: 13\nBuizingen: 24\nAverbode: 27\nZele: 71\nZelk: 3\nWaasmont: 13\nLippelo: 11\nLier: 163\nHorpmaal: 11\nMaastricht: 47\nStekene: 85\nTildonk: 27\nBrielen: 8\nBredene: 60\nOpdorp: 14\nSint-Lambrechts-Woluwe: 16\nOnkerzele: 21\nWintershoven: 9\nDuffel: 61\nHeindonk: 8\nErps-Kwerps: 54\nDiksmuide: 36\nWetteren: 87\nPassendale: 14\nVlissegem: 4\nHoutem: 23\nZammel: 6\nWestvleteren: 22\nWaarloos: 11\nHeist: 28\nEngsbergen: 30\nLeffinge: 17\nHerent: 65\nAsse: 69\nEke: 35\nKester: 30\nDrogenbos: 14\nNokere: 5\nHoevenen: 24\nSchoonderbuken: 12\nVeltem-Beisem: 22\nBoorsem: 8\nHenis: 7\nKessenich: 21\nLaar: 9\nMetsteren: 6\nRumst: 29\nVolkegem: 4\nDesselgem: 21\nNeerlanden: 6\nBolderberg: 4\nWestkerke: 17\nOostvleteren: 22\nZwevezele: 31\nWildert: 6\nAlken: 118\nNieuwenhove: 7\nStene: 12\nKwaadmechelen: 13\nMariekerke: 13\nNieuwerkerken: 71\nZeveneken: 6\nLouwel: 7\nLeisele: 18\nNieuwkapelle: 3\nWinkelomheide: 4\nSint-Katelijne-Waver: 71\nKruiskerke: 6\nKoningshooikt: 28\nZingem: 16\nSint-Pieters-Kapelle: 13\nGompel: 6\nSint-Remigius-Geest: 6\nWeelde: 34\nGroot-Loon: 2\nMontenaken: 22\nLindeman: 4\nDadizele: 11\nKinrooi: 32\nMelveren: 29\nHeule: 59\nSint-Kwintens-Lennik: 53\nMassenhoven: 8\nGeraardsbergen: 44\nWijtschate: 19\nLantin: 4\nGanshoren: 4\nEgem: 6\nMeigem: 6\nLettelingen: 6\nVladslo: 16\nGruitrode: 33\nWilsele: 36\nVlijtingen: 27\nVarsenare: 12\nPerk: 18\nBossuit: 6\nMoerbeke: 16\nGellik: 25\nOoike: 6\nRamskapelle: 9\nAbele: 9\nKeerbergen: 33\nVlekkem: 6\nWortegem: 25\nSint-Gillis-Waas: 50\nMazenzele: 7\nBrussegem: 18\nMeldert: 62\nBuken: 4\nZarren: 27\nAsper: 21\nPeizegem: 4\nTerhulpen: 2\nKoolkerke: 16\nSchuiferskapelle: 9\nZaventem: 70\nZwevegem: 62\nHeldergem: 15\nLedeberg: 26\nGuigoven: 15\nWerchter: 18\nBranst: 12\nSteenhuize-Wijnhuize: 31\nAlveringem: 17\nKoersel: 63\nLotenhulle: 29\nKoolskamp: 15\nOudergem: 14\nKesselt: 8\nLampernisse: 3\nSint-Niklaas: 228\nStotert: 4\nEssenbeek: 17\nHeestert: 17\nGavere: 13\nHelchteren: 29\nDentergem: 20\nGermeer: 6\nLafelt: 6\nWinterslag: 32\nOosteeklo: 18\nDiepenbeek: 159\nParike: 10\nLieferinge: 3\nKooigem: 9\nOphasselt: 14\nGoirle: 18\nVelm: 15\nTongerlo: 50\nDikkele: 2\nEppegem: 12\nKermt: 36\nDiets-Heur: 7\nAstene: 21\nMoorsel: 39\nGrimminge: 8\nSint-Joost-Ten-Node: 11\nOosterzele: 38\nGent: 618\nDenderwindeke: 30\nPuurs: 49\nBeverlo: 27\nOnze-Lieve-Vrouw-Waver: 42\nKallo: 23\nHerfelingen: 21\nAnderlecht: 96\nWijer: 14\nWannegem-Lede: 7\nWoesten: 22\nHulshout: 26\nGeluveld: 23\nOutgaarden: 5\nBuvingen: 8\nRoborst: 12\nSint-Agatha-Rode: 14\nKlein-Gelmen: 6\nZelzate: 37\nKolonie: 21\nNieuwkerke: 25\nStrombeek-Bever: 26\nMettekoven: 2\nBaal: 28\nBerbroek: 17\nHofstade: 42\nWaarbeke: 6\nMaarke-Kerkem: 12\nRuien: 14\nPetegem: 16\nDe Klinge: 18\nKluisbergen: 15\nHeppeneert: 1\nOpbrakel: 25\nAtembeke: 7\nMulken: 2\nZandhoven: 26\nIzenberge: 5\nSint-Gillis: 15\nRetie: 33\nDraaibrug: 2\nPoesele: 6\nHarelbeke: 81\nRemersdaal: 13\nWillebroek: 58\nSchore: 2\nEtterbeek: 5\nPollare: 6\nLede: 46\nWijnegem: 27\nAppelterre: 11\nNieuwenrode: 16\nPoperinge: 90\nKraainem: 37\nOevel: 30\nDestelbergen: 57\nGijmel: 4\nWezel: 13\nBorchtlombeek: 12\nWilderen: 6\nHeivoort: 3\nPellenberg: 19\nLeefdaal: 36\nHerdersem: 19\nSint-Pieters-Woluwe: 6\nRoesbrugge-Haringe: 2\nWevelgem: 36\nSerskamp: 14\nGrembergen: 22\nZegelsem: 9\nDoomkerke: 13\nWauberg: 11\nZandbergen: 16\nHalluin: 4\nOpoeteren: 24\nHekelgem: 22\nDudzele: 16\nMoerbeke-Waas: 31\nVlimmeren: 16\nSint-Maria-Aalter: 6\nPollinkhove: 13\nMollem: 25\nPaal: 48\nWihogne: 6\nHoepertingen: 20\nKlemskerke: 20\nDuras: 2\nLedegem: 23\nMiddelkerke: 29\nHeverlee: 108\nKalken: 35\nZerkegem: 9\nHonsem: 4\nRosmeer: 10\nBrecht: 46\nLapscheure: 8\nWoubrechtegem: 8\nStuivekenskerke: 5\nKersbeek-Miskom: 24\nBerlare: 26\nNieuw Tongeren: 2\nGemeldorp: 1\nHerzele: 38\nVloesberg: 12\nLiège: 24\nTielt-Winge: 53\nMillegem: 2\nWielsbeke: 25\nTestelt: 25\nBogaarden: 8\nSint-Huibrechts-Lille: 32\nErwetegem: 24\nAaigem: 24\nMoerkerke: 44\nWeerde: 12\nAchel: 38\nLinden: 35\nLindel: 2\nHeffen: 11\nHoegaarden: 47\nGrimbergen: 86\nKessel-Lo: 81\nKortenaken: 42\nDaknam: 9\nSnaaskerke: 18\nTollembeek: 46\nOostakker: 74\nAartselaar: 53\nWattripont: 1\nTorhout: 98\nLutlommel: 32\nVinderhoute: 7\nWaardamme: 13\nWezemaal: 18\nKortessem: 33\nAssenede: 37\nGrammene: 7\nOrdingen: 10\nOudekapelle: 7\nMeise: 50\nSint-Amands: 28\nGerdingen: 8\nKortenbos: 16\nBekkevoort: 27\nStevoort: 38\nBost: 12\nGeldenaken: 11\nSint-Joris-Weert: 14\nSchriek: 25\nAvelgem: 26\nHeultje: 25\nLoksbergen: 19\nOpglabbeek: 40\nMariakerke: 62\nOorbeek: 12\nKoninksem: 18\nVreren: 20\nLot: 34\nSiemkensheuvel: 1\nRosoux: 2\nWolfsdonk: 2\nZandvoorde: 30\nHalle-Booienhoven: 38\nHerselt: 86\nLombardsijde: 8\nGelmen: 2\nLeest: 20\nHandzame: 14\nKattem: 2\nTer Hilst: 4\nMalderen: 15\nSint-Antelinks: 11\nAfsnee: 10\nSint-Martens-Lennik: 19\nNieuwpoort: 34\nHumbeek: 29\nLeeuwergem: 13\nKozen: 21\nSchepdaal: 39\nHelen-Bos: 12\nWaasten: 8\nNieuwmunster: 15\nKattenbos: 14\nVeldwezelt: 22\nDikkebus: 15\nAarsele: 22\nMeulebeke: 51\nDonk: 22\nGestel: 2\nBlankenberge: 53\nGoeferdinge: 21\nVloerzegem: 2\nLochristi: 59\nPiringen: 10\nLommel: 66\nKruibeke: 25\nKoksijde: 47\nGullegem: 40\nWinksele: 30\nDendermonde: 38\nBolder: 8\nSint-Stevens-Woluwe: 21\nBeerse: 46\nRonse: 141\nWaver: 16\nUitbergen: 6\nUrsel: 32\nRansberg: 18\nBouwel: 18\nItterbeek: 20\nKobbegem: 9\nZomergem: 39\nHallaar: 14\nNethen: 16\nSint-Martens-Leerne: 12\nHoutain-St.-Siméon: 8\nLeut: 8\nNiel-bij-Sint-Truiden: 10\nOlen: 64\nZeveren: 11\nBinkom: 24\nLembeek: 38\nWestrozebeke: 22\nSint-Lenaarts: 41\nRunkelen: 6\nNeet: 4\nOkselaar: 14\nSijsele: 31\nMelsen: 6\nKortrijk: 186\nBegijnendijk: 67\nViversel: 14\nGrote-Barrier: 5\nEverberg: 16\nHundelgem: 3\nReusel: 5\nGingelom: 14\nEernegem: 36\nAmelsdorp: 3\nMulheim: 4\nRummen: 32\nEik: 10\nMullem: 5\nStrijtem: 19\nZonnebeke: 30\nHechtel: 31\nLetterhoutem: 6\nBrasschaat: 137\nGierle: 26\nKuttekoven: 3\nSint-Katherina-Lombeek: 41\nOostduinkerke: 38\nMalen: 6\nTielrode: 20\nOrsmaal: 19\nGalmaarden: 39\nGenebos: 5\nl'Ecluse: 2\nSint-Huibrechts-Hern: 7\nHerenthout: 43\nBalegem: 14\nTerhagen: 7\nWelle: 20\nHerten: 2\nGijverinkhove: 7\nOutrijve: 10\nSint-Kornelis-Horebeke: 8\nEindhout: 23\nBrugge: 193\nGodveerdegem: 10\nElversele: 12\nBatsheers: 4\nBekkerzeel: 8\nRillaar: 46\nNiel: 27\nRelegem: 8\nBorgloon: 39\nGijzegem: 21\nSint-Jansheide: 16\nSint-Eloois-Vijve: 10\nWillebringen: 10\nOostkerke: 9\nLeopoldsburg: 61\nLovendegem: 42\nWeert: 13\nRutten: 7\nGlons: 10\nDroeshout: 9\nZandvliet: 14\nMerendree: 13\nTongeren: 99\nHuizingen: 21\nKerkhoven: 24\nRiemst: 20\nSchoondijke: 6\nBassevelde: 38\nSint-Jan-in-Eremo: 7\nVinkem: 8\nGentbrugge: 93\nAartrijke: 35\nAalst: 210\nVrijhern: 1\nOpwijk: 62\nSchellebelle: 13\nRumsdorp: 3\nEzemaal: 16\nLoker: 16\nEben: 6\nBeerzel: 28\nGroot-Gelmen: 4\nSemmerzake: 9\nMelle: 70\nKlein Vorst: 4\nSchoot: 35\nBerlaar: 70\nHeikruis: 8\nRukkelingen-Loon: 6\nZoerle-Parwijs: 16\nDrongen: 75\nSint-Maria-Lierde: 24\nPepingen: 35\nBaarle-Hertog: 12\nMenen: 81\nAssent: 28\nProven: 20\nAnzegem: 35\nErpe: 27\nNukerke: 25\nSint-Michiels: 65\nBoirs: 4\nBuitenland: 3\nKachtem: 16\nHeesveld: 4\nBoxberg: 24\nOuter: 15\nTerbiest: 6\nMorkhoven: 14\nEvergem: 94\nMechelen-Bovelingen: 16\nBuggenhout: 50\nRollegem-Kapelle: 10\nGutschoven: 9\nSint-Pieters-Leeuw: 105\nRamsel: 44\nEvere: 19\nKumtich: 22\nRotselaar: 34\nMeerbeke: 29\nVoroux-Les-Liers: 4\nTernat: 44\nOudenburg: 18\nBroekom: 9\nVliermaal: 30\nElene: 12\nHombeek: 20\nArendonk: 60\nSint-Martens-Lierde: 25\nBoekt: 22\nZolder: 40\nSchoonaarde: 19\nMeetkerke: 11\nMolenstede: 33\nLembeke: 30\nMuizen: 15\nOostham: 20\nSchaffen: 60\nKeiem: 12\nMoerzeke: 20\nEksaarde: 42\nLummen: 62\nDeftinge: 25\nSint-Truiden: 101\nSint-Blasius-Boekel: 10\nBocholt: 51\nSint-Jan: 8\nOostrozebeke: 40\nBeveren-Waas: 62\nGenoelselderen: 8\nVroenhoven: 22\nZarlardinge: 12\nWervik: 48\nKalmthout: 37\nBettincourt: 8\nDessel: 37\nKapellen: 78\nZuidschote: 3\nBalgerhoeke: 2\nRapertingen: 16\nBavikhove: 10\nZemst: 17\nLeupegem: 9\nDrieslinter: 12\nLinkhout: 15\nSpiere: 8\nEmblem: 14\nMoeskroen: 25\nSas van Gent: 1\nMeulenberg: 16\nAs: 34\nNederokkerzeel: 14\nHoeleden: 28\nLanden: 45\nAssebroek: 80\nVivenkapelle: 9\nElst: 15\nMartenslinde: 8\nSteenhuffel: 9\nZichem: 37\nGrote-Spouwen: 20\nOphoven: 16\nBeringen: 38\nGottem: 4\nKanne: 11\nMeerbeek: 12\nBassenge: 6\nWingene: 46\nRoosbeek: 10\nKoewacht: 2\nBeitem: 4\nOoigem: 13\nNederboelare: 7\nLonderzeel: 75\nMaldegem: 94\nKeiberg: 11\nGrobbendonk: 33\nBilzen: 56\nReppel: 10\nGelinden: 15\nBaarle-Nassau: 26\nWerken: 14\nHeeserbergen: 14\nRoeselare: 142\nMarke: 40\nNinove: 61\nDworp: 15\nDeurle: 20\nTiegem: 13\nVlamertinge: 19\nEssene: 31\nHeikant: 4\nMerksem: 75\nGenenbos: 9\nTessenderlo: 92\nGotem: 4\nZande: 5\nHoolst: 2\nKapelle-op-den-Bos: 17\nJesseren: 11\nMeensel-Kiezegem: 26\nEtikhove: 29\nRavels: 24\nMembruggen: 11\nOostmalle: 34\nZichen: 13\nBalen: 137\nGelderhorsten: 13\nRijkevorsel: 63\nWiekevorst: 31\nErembodegem: 67\nMeerlaar: 8\nMeerhout: 34\nWijshagen: 29\nOud-Heverlee: 25\nTremelo: 29\nWuustwezel: 47\nBoechout: 41\nBurst: 18\nElsegem: 11\nHingene: 20\nLangemark: 45\nRiksingen: 6\nBeervelde: 18\nSint-Margriete-Houtem: 16\nHever: 34\nWijchmaal: 18\nRamsdonk: 14\nGrazen: 9\nElingen: 17\nAspelare: 13\nWontergem: 11\nTurnhout: 165\nHaringe: 4\nKoekelberg: 8\nEdegem: 58\nLint: 24\nHouthalen: 118\nEliksem: 8\nPaifve: 6\nVichte: 14\nWellen: 54\nMelkwezer: 12\nVrasene: 26\nHerne: 44\nBrussel: 88\nZulte: 20\nMeilegem: 3\nOudenaken: 17\nBellem: 11\nBeveren-aan-de-ijzer: 31\nOpgrimbie: 24\nSint-Eloois-Winkel: 19\nRessegem: 9\nMespelare: 3\nWalshoutem: 10\nSchendelbeke: 11\nProosterbos: 10\nEede: 1\nLissewege: 13\nVechmaal: 13\nVoortkapel: 18\nWaltwilder: 14\nOverwinden: 9\nZutendaal: 43\nWalem: 6\nEverbeek: 36\nKieldrecht: 20\nKortrijk-Dutsel: 10\nKontich: 74\nBoom: 70\nRomershoven: 14\nBellegem: 28\nBornem: 50\nNoorderwijk: 15\nMelsbroek: 28\nHoutave: 20\nElverdinge: 17\nStalhille: 4\nZittert-Lummen: 9\nOetingen: 18\nKerkhove: 4\nSint-Maria-Latem: 4\nLichtervelde: 36\nMichelbeke: 10\nHoelbeek: 9\nAarschot: 96\nPloegsteert: 14\nBorsbeek: 21\nWespelaar: 12\nBaardegem: 23\n's-Gravenwezel: 10\nOverhespen: 12\nGroot-Bijgaarden: 47\nWezeren: 6\nHoutvenne: 11\nAntwerpen: 605\nZittaart: 16\nSint-Martens-Bodegem: 30\nBreskens: 11\nBoekhout: 4\nDeinze: 42\nKnesselare: 30\nKortenberg: 32\nPaulatem: 1\nMere: 28\nVissenaken: 28\nZulzeke: 7\nLo: 22\nMannekensvere: 3\nKaaskerke: 7\nLuingne: 6\nKotem: 6\nLeke: 14\nGoetsenhoven: 24\nSint-Lambrechts-Herk: 32\nRuiselede: 36\nRanst: 10\nLebbeke: 69\nMerelbeke: 85\nStokkem: 17\nRijkhoven: 20\nHoeselt: 54\nGeluwe: 44\nVorsen: 4\nVeulen: 4\nBottelare: 17\nVoorde: 17\nVlierzele: 15\nRekem: 28\nNeeroeteren: 38\nImpe: 15\nWaterland-Oudeman: 10\nLauw: 16\nMeeswijk: 6\nEde: 2\nWaasmunster: 51\nNeerhespen: 9\nZwartberg: 24\nKwaremont: 3\nWijnendale: 6\nKemzeke: 29\nSGV: 21\nVilvoorde: 98\nRollegem: 24\nNazareth: 37\nBokrijk: 14\nGorsem: 6\nSint-Lievens-Houtem: 32\nBovekerke: 17\nWaregem: 94\nVarendonk: 4\nWidooie: 6\nBissegem: 18\nErtvelde: 44\nLozen: 12\nZonhoven: 126\nSchelderode: 2\nDiegem: 39\nBoortmeerbeek: 38\nVaalbeek: 1\nUikhoven: 10\nSint-Kruis: 73\nMolem: 2\nJeuk: 24\nBellingen: 10\nZellik: 26\nTisselt: 18\nKorbeek-Dijle: 10\nBikschote: 6\nOplinter: 36\nVisé: 9\nBulskamp: 13\nWaterschei: 50\nRoesbrugge: 9\nGrote-Brogel: 31\nEine: 8\nBerchem: 95\nGors-Opleeuw: 8\nWortel: 12\nAdinkerke: 6\nOverijse: 129\nRijkel: 2\nBeernem: 46\nDranouter: 19\nStrijpen: 20\nHeusden: 86\nZevekote: 2\nSpalbeek: 25\nBerlingen: 6\nSint-Job-in-'t-Goor: 24\nSteenokkerzeel: 15\nMelden: 13\nOverpelt: 132\nMoerbrugge: 15\nWestmalle: 39\n",
      "Heist-op-den-Berg: 97\nHemelveerdegem: 8\nHerstappe: 6\nKessel: 38\nBeersel: 31\nHuise: 16\nDorpheide: 13\nVeldegem: 20\nEdelare: 18\nEeklo: 80\nWaarmaarde: 2\nNeerijse: 34\nWemmel: 48\nErondegem: 9\nMeer: 23\nSint-Jacobs-Kapelle: 1\nLeuven: 132\nWestmeerbeek: 12\nEikevliet: 2\nHeurne: 5\nPoeke: 7\nLixhe: 4\nHorendonk: 8\nAchterbroek: 18\nMoortsele: 7\nGijzelbrechtegem: 3\nHalle: 114\nHolsbeek: 19\nSint-Joris-Winge: 28\nVossem: 22\nGerheide: 9\nTervant: 2\nGaasbeek: 12\nBunsbeek: 23\nRonsele: 9\nAldeneik: 3\nOelegem: 12\nBekegem: 10\nBeselare: 17\nBonheiden: 52\nDilsen: 32\nStavele: 13\nSlijpe: 15\nKlijte: 6\nBevel: 14\nHoogstraten: 38\nRuisbroek: 22\nKleine-Brogel: 13\nSchoten: 85\nGenk: 211\nEversel: 6\nLoonbeek: 10\nSchimpen: 6\nBever: 28\nPittem: 33\nZaffelare: 31\nHeuvel: 9\nKeiheuvel: 5\nHaasrode: 30\nNevele: 18\nLiezele: 25\nTeuven: 9\nHalmaal: 6\nKemmel: 27\nZuienkerke: 21\nWachtebeke: 69\nEsen: 18\nElsum: 4\nJuprelle: 10\nWommelgem: 43\nHakendover: 22\nGelrode: 16\nTielt: 92\nKaulille: 33\nBachte-Maria-Leerne: 12\nSint-Baafs-Vijve: 12\nTerkoest: 12\nViersel: 8\nZonnegem: 4\nLemberge: 6\nEmael: 8\nSchalkhoven: 7\nRoclenge: 6\nItegem: 30\nRosselaar: 2\nRaversijde: 11\nLichtaart: 41\nOostende: 174\nZwijnaarde: 57\nOpstal: 9\nWerkplaatsen: 14\nSnellegem: 10\nHamme: 57\nBeveren (Roeselare): 32\nRozebeke: 6\nWalsbets: 2\nAalter: 60\nVillers-St.-Siméon: 2\nSchelle: 23\nEllezelles: 6\nOostwinkel: 11\nEdingen: 12\nDuinbergen: 6\nSint-Antonius: 18\nHamont: 60\nOeselgem: 9\nIngooigem: 20\nMerkem: 22\nSchakkebroek: 16\nLille: 20\nRunkst: 38\nMopertingen: 9\nHaaltert: 43\nSluis: 10\nSchurhoven: 4\nBeigem: 6\nHoeke: 4\nRijmenam: 28\nSint-Goriks-Oudenhove: 15\nMerchtem: 42\nOpheers: 4\nBommershoven: 8\nBazel: 19\nMaasmechelen: 56\nBeerlegem: 6\nMol: 140\nIngelmunster: 50\nNeerharen: 9\nVorst: 45\nSint-Pieters-Rode: 6\nWelden: 19\nSint-Jans-Geest: 6\nNieuwkerken: 32\nNeerwinden: 13\nKorbeek-Lo: 26\nEmelgem: 15\nSmetlede: 8\nKanegem: 10\nGrotenberge: 14\nWoumen: 24\nReningelst: 16\nHerk-de-Stad: 50\nSint-Maria-Oudenhove: 31\nHemiksem: 44\nMesen: 4\nMunkzwalm: 15\nPulderbos: 6\nHaccourt: 10\nSint-Denijs: 17\nKaprijke: 28\nVeerle: 56\nDeurne: 176\nBorgerhout: 60\nSint-Laureins: 28\nDamme: 21\nMeerdonk: 16\nAlsemberg: 20\nWatervliet: 26\nHulste: 14\nZoutenaaie: 1\nBreendonk: 5\nSint-Ulriks-Kapelle: 14\nElewijt: 15\nNeigem: 8\nHaacht: 43\nNoordschote: 6\nOppuurs: 17\nVremde: 17\nSmeermaas: 13\nDikkelvenne: 16\nMerem: 6\nHouthem: 10\nBoekhoute: 16\nHendrieken: 1\nKaggevinne: 29\nRosières: 8\nOudegem: 15\nSchaarbeek: 33\nMerksplas: 45\nLangdorp: 52\nWerm: 6\nVal-Meer: 21\nWommersom: 14\nReninge: 10\nBlaasveld: 18\nWesterlo: 25\nRoksem: 6\nZoersel: 28\nWilrijk: 134\nLozer: 13\nIzegem: 58\nHoboken: 92\nSluizen: 10\nLa Hulpe: 2\nSint-Rijkers: 6\nTuilt: 16\nBoezinge: 20\nLeerbeek: 20\nLokeren: 139\nSteenkerke: 7\nBeert: 10\nWakken: 11\nHansbeke: 16\nHillegem: 18\nAardenburg: 4\nDenderleeuw: 22\nMarkegem: 6\nMeeuwen: 52\nSint-Genesius-Rode: 49\nSint-Margriete: 13\nAppels: 14\nVoorshoven: 6\nOostburg: 10\nSinaai: 37\nDe Pinte: 46\nHulst: 19\nWieze: 17\nEigenbilzen: 19\nLaarne: 39\nZepperen: 41\nVoort: 3\nVrolingen: 6\nIddergem: 13\nBelsele: 59\nAlt-Hoeselt: 9\nBalendijk: 10\nWaarschoot: 40\nWulpen: 7\nRuddervoorde: 45\nRocourt: 14\nStabroek: 37\nMachelen: 47\nMoen: 17\nBeerst: 14\nZeebrugge: 31\nLauwe: 22\nKruishoutem: 48\nOud Rekem: 1\nHouwaart: 22\nSint-Kruis-Winkel: 8\nVelzeke: 30\nWenduine: 26\nOosterwijk: 10\nMunsterbilzen: 29\nPetegem-aan-de-Leie: 26\nMolenbeersel: 17\nZwijndrecht: 36\nWechelderzande: 12\nOtegem: 16\nVollezele: 32\nIdegem: 10\nLendelede: 23\nKluizen: 6\nSMV: 18\nGijzenzele: 4\nVurste: 2\nKuringen: 53\nTemse: 51\nSint-Agatha-Berchem: 23\nSteendorp: 9\nPulle: 6\nOostnieuwkerke: 18\nMillen: 23\nDilbeek: 75\nBaaigem: 3\nKerkom: 28\nMesselbroek: 18\nSint-Andries: 86\nKortijs: 5\n's-Herenelderen: 10\nMeersel-Dreef: 10\nWiemesmeer: 2\nSchoonbeek: 18\nHaasdonk: 23\nBoutersem: 30\nMoere: 6\nHaren: 10\nHeks: 7\nTienen: 99\nBertem: 26\nKiewit: 53\nSleidinge: 49\nScheldewindeke: 22\nVinkt: 9\nEggewaartskapelle: 3\nHouthulst: 44\nUkkel: 57\nVeurne: 47\nDe Panne: 32\nLutselus: 19\nVosselaar: 41\nLanaken: 59\nLovenjoel: 21\nVucht: 7\nEname: 14\nNossegem: 12\nGroenendaal: 1\nMal: 15\nDormaal: 10\nDuisburg: 16\nBooischot: 42\nRekkem: 31\nMoregem: 4\nZoutleeuw: 34\nHasselt: 193\nVerrebroek: 11\nHees: 16\nAdegem: 27\nBerendrecht: 22\nBroechem: 18\nBeveren-Aan-De-Leie: 12\nSchilde: 40\nRupelmonde: 6\nKolis: 6\nPutte: 69\nGeel: 233\nOombergen: 14\nHertsberge: 23\nHulsen: 19\nMiddelburg: 15\nNeerpelt: 92\nBentille: 5\nOttenburg: 16\nBierbeek: 34\nKetsingen: 6\nZammelen: 3\nBorlo: 9\nLaakdal: 1\nBorsbeke: 11\nSledderlo: 4\nMersenhoven: 1\nMassemen: 23\nLiedekerke: 48\nAttenrode: 20\nBijenberg: 4\nNederzwalm: 10\nSmeerebbe: 3\nOekene: 15\nLoppem: 20\nHooglede: 43\nSint-Jans-Molenbeek: 33\nNeerglabbeek: 17\nEssen: 41\nWanzele: 6\nSchulen: 31\nZevergem: 20\nGodsheide: 14\nTervuren: 60\nJette: 26\nKasterlee: 30\nScherpenheuvel: 36\nEzaart: 2\nBlanden: 12\nTielen: 12\nWaanrode: 40\nO.L.V.-Lombeek: 11\nKlerken: 14\nVlezenbeek: 29\nSint-Lievens-Esse: 35\nEttelgem: 8\nGits: 28\nBeek: 7\nWatou: 23\nBrustem: 39\nGeetbets: 66\nMortsel: 56\nKorspel: 6\nOreye: 4\nMechelen: 247\nDenderbelle: 11\nLubbeek: 52\nMark: 6\nWondelgem: 55\nKortemark: 38\nHamme-Mille: 3\nGeistingen: 4\nMinderhout: 8\nEichem: 5\nWestende: 14\nHalen: 46\nOvermere: 37\nOverrepen: 11\nWambeek: 30\nJabbeke: 11\nMielen-Boven-Aalst: 8\nKomen: 27\nBinderveld: 6\nNeervelp: 7\nOverboelare: 26\nLinkebeek: 26\nLinde: 20\nOttergem: 2\nBooitshoeke: 2\nHerderen: 12\nKerniel: 16\nZedelgem: 49\nPervijze: 18\nWulvergem: 5\nWaremme: 19\nDesteldonk: 15\nSint-Denijs-Boekel: 13\nHerentals: 98\nBambrugge: 10\nTeralfene: 15\nZottegem: 39\nEksel: 16\nVosselare: 13\nWichelen: 28\nWestouter: 16\nSint-Denijs-Westrem: 45\nPoelkapelle: 22\nWijerken: 2\nMolenbeek-Wersbeek: 20\nNieuwrode: 14\nLandegem: 12\nKnokke: 60\nSint-Martens-Latem: 42\nGlabbeek-Zuurbemde: 16\nHoogstade: 11\nLandskouter: 6\nNeerrepen: 4\nMoorslede: 33\nBaasrode: 18\nStaden: 39\n"
     ],
     "output_type": "stream"
    }
   ],
   "source": [
    "for town in stops_per_town:\n",
    "  print(\"{}: {}\".format(town[0].encode('utf-8'), town[1]))"
   ]
  }
 ],
 "metadata": {
  "kernelspec": {
   "display_name": "Python 2",
   "language": "python",
   "name": "python2"
  },
  "language_info": {
   "codemirror_mode": {
    "name": "ipython",
    "version": 2
   },
   "file_extension": ".py",
   "mimetype": "text/x-python",
   "name": "python",
   "nbconvert_exporter": "python",
   "pygments_lexer": "ipython2",
   "version": "2.7.15+"
  },
  "pycharm": {
   "stem_cell": {
    "cell_type": "raw",
    "metadata": {
     "collapsed": false
    },
    "source": []
   }
  }
 },
 "nbformat": 4,
 "nbformat_minor": 1
}