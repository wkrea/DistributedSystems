{
 "cells": [
  {
   "cell_type": "markdown",
   "metadata": {
    "collapsed": true,
    "pycharm": {
     "name": "#%% md\n"
    }
   },
   "source": [
    "In this exercise we will determine the stops/citizen for each town whose center is within radius of a user specified point.\n",
    "\n",
    "We will first determine an RDD with all the stops that belong to towns that are in range. Next we will determine the main town that the\n",
    "stops are located in, retrieve the population and calculate for each town the stops per citizen.\n",
    "\n",
    "Lastly we will provide the stops per citizen for each town separately, and for all towns combined.\n",
    "\n",
    "\n",
    "First we initialise PySpark.\n"
   ]
  },
  {
   "cell_type": "code",
   "execution_count": 1,
   "metadata": {
    "pycharm": {
     "is_executing": false,
     "name": "#%%\n"
    }
   },
   "outputs": [],
   "source": [
    "from pyspark import SparkContext\n",
    "\n",
    "sc = SparkContext.getOrCreate()\n"
   ]
  },
  {
   "cell_type": "markdown",
   "metadata": {
    "pycharm": {
     "name": "#%% md\n"
    }
   },
   "source": [
    "We first read all the stops. The specified file is a preprocessed version of the JSON \"stops.txt\", in which \n",
    "each line contains one stop in the format \n",
    "\n",
    "halte_id;halte_name;lat;long;town_name\n",
    "\n",
    "This makes it easier to parse since it only requires a call to str.split(). The result is an RDD with tuples\n",
    "(halte_id, halte_name, lat, long, town_name).\n"
   ]
  },
  {
   "cell_type": "code",
   "execution_count": 2,
   "metadata": {
    "pycharm": {
     "is_executing": false,
     "name": "#%%\n"
    }
   },
   "outputs": [],
   "source": [
    "stops = sc.textFile(\"./converted_stops.csv\").map(lambda stop: tuple([x.strip() for x in stop.split(\";\")]))\n"
   ]
  },
  {
   "cell_type": "markdown",
   "metadata": {
    "pycharm": {
     "name": "#%% md\n"
    }
   },
   "source": [
    "Next, we read all the coordinates of the towns. This CSV file is a preprocessed version of \"zipcodes.csv\" which\n",
    "filters out useless data. This creates an RDD with tuples (district-name, (lat, long))\n"
   ]
  },
  {
   "cell_type": "code",
   "execution_count": 3,
   "metadata": {
    "pycharm": {
     "is_executing": false,
     "name": "#%%\n"
    }
   },
   "outputs": [],
   "source": [
    "town_coords = sc.textFile(\"./coord_map.csv\").map(lambda towncoord: tuple([x.strip() for x in towncoord.split(\";\")])).map(lambda x: (x[0], (x[1], x[2])))\n"
   ]
  },
  {
   "cell_type": "markdown",
   "metadata": {
    "pycharm": {
     "name": "#%% md\n"
    }
   },
   "source": [
    "We will now join the stops with the coords of their respective towns. We first apply a keyBy operation that creates\n",
    "(town, stop) tuples to make the join possible. The result is an RDD with tuples (town, (stop, town-coord)).\n",
    "\n",
    "Note: the town names in the CSV file contain some errors, therefore 270 towns will be lost.\n"
   ]
  },
  {
   "cell_type": "code",
   "execution_count": 4,
   "metadata": {
    "pycharm": {
     "is_executing": false,
     "name": "#%%\n"
    }
   },
   "outputs": [],
   "source": [
    "stops_with_town_coords = stops.keyBy(lambda stop: stop[4]).join(town_coords)\n"
   ]
  },
  {
   "cell_type": "markdown",
   "metadata": {
    "pycharm": {
     "name": "#%% md\n"
    }
   },
   "source": [
    "We will now add the user-specified lat, long and radius. This will result in tuples of the form\n",
    "(stop, stop_town_coord, input_coord, input_radius).\n"
   ]
  },
  {
   "cell_type": "code",
   "execution_count": 5,
   "metadata": {
    "pycharm": {
     "is_executing": false,
     "name": "#%%\n"
    }
   },
   "outputs": [],
   "source": [
    "lat = 50.9797558\n",
    "long = 5.7018474\n",
    "radius = 50000.0\n",
    "\n",
    "stops_with_input = stops_with_town_coords.map(lambda x: (x[1][0], x[1][1], (lat, long), radius))\n"
   ]
  },
  {
   "cell_type": "markdown",
   "metadata": {
    "pycharm": {
     "name": "#%% md\n"
    }
   },
   "source": [
    "The next step is to determine the distance between the towns and the user specified point. This will map all\n",
    "tuples to (stop, distance, input_radius). In order to filter out the stops that are out of range, we use \"filter()\"\n",
    "with the condition that distance <= radius.\n",
    "\n",
    "Note: since the earth is a sphere euclidian distances are not \n",
    "accurate enough, I have used an online implementation of the haversine method.\n",
    "http://evoling.net/code/haversine/\n",
    "https://stackoverflow.com/questions/4913349/haversine-formula-in-python-bearing-and-distance-between-two-gps-points/4913653#4913653\n",
    "There are many sources, I don't know which one is the original.\n"
   ]
  },
  {
   "cell_type": "code",
   "execution_count": 6,
   "metadata": {
    "pycharm": {
     "is_executing": false,
     "name": "#%%\n"
    }
   },
   "outputs": [],
   "source": [
    "def haversine(coord1, coord2):\n",
    "    from math import radians, cos, sin, asin, sqrt\n",
    "    \"\"\"\n",
    "    Calculate the great circle distance between two points \n",
    "    on the earth (specified in decimal degrees)\n",
    "    \"\"\"\n",
    "    \n",
    "    lat1, lon1 = coord1\n",
    "    lat2, lon2 = coord2\n",
    "    \n",
    "    lat1 = float(lat1)\n",
    "    lon1 = float(lon1)\n",
    "    lat2 = float(lat2)\n",
    "    lon2 = float(lon2)\n",
    "    \n",
    "    # convert decimal degrees to radians \n",
    "    lon1, lat1, lon2, lat2 = map(radians, [lon1, lat1, lon2, lat2])\n",
    "    # haversine formula \n",
    "    dlon = lon2 - lon1 \n",
    "    dlat = lat2 - lat1 \n",
    "    a = sin(dlat/2.0)**2.0 + cos(lat1) * cos(lat2) * sin(dlon/2.0)**2.0\n",
    "    c = 2.0 * asin(sqrt(a)) \n",
    "    # Radius of earth in kilometers is 6371\n",
    "    km = 6371.0 * c\n",
    "    m = km * 1000.0\n",
    "    return m\n",
    "\n",
    "stops_with_town_distances = stops_with_input.map(lambda x: (x[0], haversine(x[1], x[2]), x[3]))\n",
    "stops_within_radius = stops_with_town_distances.filter(lambda x: x[1] <= x[2])\n"
   ]
  },
  {
   "cell_type": "markdown",
   "metadata": {
    "pycharm": {
     "name": "#%% md\n"
    }
   },
   "source": [
    "The next step is to determine what main town the stops are in. We will load \"townname_map.csv\". This is a \n",
    "preprocessed version of \"flemish_districts.txt\" that maps district names onto town names. Joining with this RDD creates tuples\n",
    "(district_name, (stop, main-town)). In preparation for the next step we will clean up the RDD and map it \n",
    "into (main-town, stop). In order to make the join possible the stops RDD will be mapped to tuples (district, stop).\n",
    "\n",
    "Note that \"flemish_districts.txt\" was not 100% correct and as a result a maximum of 274 towns will be lost. \n"
   ]
  },
  {
   "cell_type": "code",
   "execution_count": 7,
   "metadata": {
    "pycharm": {
     "is_executing": false,
     "name": "#%%\n"
    }
   },
   "outputs": [],
   "source": [
    "town_name_map = sc.textFile(\"./townname_map.csv\").map(lambda mapping: tuple([x.strip() for x in mapping.split(\";\")]))\n",
    "stops_by_district = stops_within_radius.map(lambda x: (x[0][4], x[0]))\n",
    "stops_by_town = stops_by_district.join(town_name_map).map(lambda x: (x[1][1], x[1][0]))\n"
   ]
  },
  {
   "cell_type": "markdown",
   "metadata": {
    "pycharm": {
     "name": "#%% md\n"
    }
   },
   "source": [
    "Now that we've mapped the main town names to the stops, we join with the town population map \"town_pop_map.csv\", which \n",
    "is a preprocessed version of citizens2.txt where the space-delimiter is replaced by a \";\" delimiter for easier parsing.\n",
    "This file is read and mapped to (town-name, pop).\n",
    "\n",
    "Note: \"citizens2.txt\" and \"flemish_districts.txt\" are not 100% compatible so 68 towns are lost during the join.\n",
    "This is however better that the difference between stops.txt and citizens2.txt in which 1114 towns would be lost.\n",
    "\n",
    "This joining process will produce tuples of the form (town-name, (stop, town_pop))\n"
   ]
  },
  {
   "cell_type": "code",
   "execution_count": 8,
   "metadata": {
    "pycharm": {
     "is_executing": false,
     "name": "#%%\n"
    }
   },
   "outputs": [],
   "source": [
    "town_pop_map = sc.textFile(\"./town_pop_map.csv\").map(lambda mapping: tuple([x.strip() for x in mapping.split(\";\")]))\n",
    "\n",
    "town_stop_pop = stops_by_town.join(town_pop_map)\n"
   ]
  },
  {
   "cell_type": "markdown",
   "metadata": {
    "pycharm": {
     "name": "#%% md\n"
    }
   },
   "source": [
    "Since we want to know the stops per citizen for each town, we have to count the stops. For this we map the\n",
    "(town-name, (stop, town-pop)) tuples to (town, (1, town-pop)) tuples and we use the following addition:\n",
    "(town-name, (x, town-pop)) + (town-name, (y, town-pop)) = (town, (x + y, town-pop)). This results in (town, (stop-count, pop-count)).\n",
    "A simple division will then result in the stop-citizen ratio.\n",
    "\n",
    "\"town_stop_per_citizen\" will contain the stops per citizen for each town separately, this is (town, stops-per-citizen).\n",
    "\"stop_per_citizen_total\" will contain the stops per citizens for all towns combined, this is a single float.\n"
   ]
  },
  {
   "cell_type": "code",
   "execution_count": 9,
   "metadata": {
    "pycharm": {
     "is_executing": false,
     "name": "#%%\n"
    }
   },
   "outputs": [],
   "source": [
    "town_stopcount_pop = town_stop_pop.map(lambda x: (x[0], (1, int(x[1][1])))).reduceByKey(lambda x, y: (x[0] + y[0], x[1]))\n",
    "town_stop_per_citizen = town_stopcount_pop.mapValues(lambda x: float(x[0]) / float(x[1])).collect()\n",
    "stop_count, citizen_count = town_stopcount_pop.map(lambda x: (x[1][0], x[1][1])).reduce(lambda x,y: (x[0] + y[0], x[1] + y[1]))\n",
    "stop_per_citizen_total = float(stop_count) / float(citizen_count)\n"
   ]
  },
  {
   "cell_type": "markdown",
   "metadata": {
    "pycharm": {
     "name": "#%% md\n"
    }
   },
   "source": [
    "Finally we print the output.\n"
   ]
  },
  {
   "cell_type": "code",
   "execution_count": 10,
   "metadata": {
    "pycharm": {
     "is_executing": false,
     "name": "#%%\n"
    }
   },
   "outputs": [
    {
     "name": "stdout",
     "output_type": "stream",
     "text": [
      "Overall stops per citizen: 0.00586341288271\n",
      "Town - stops per citizen\n",
      "------------------------\n",
      "\n",
      "Opglabbeek - 0.00387259173202\n",
      "Nieuwerkerken - 0.00589334483254\n",
      "Bocholt - 0.00718599495451\n",
      "Lummen - 0.00522317188984\n",
      "Kortessem - 0.012083876318\n",
      "Beringen - 0.00382384252721\n",
      "Lommel - 0.00193980719492\n",
      "Landen - 0.00119099855826\n",
      "Peer - 0.00713371135906\n",
      "Kinrooi - 0.00703937136777\n",
      "Zonhoven - 0.00593947393231\n",
      "Balen - 0.00691192865106\n",
      "Gingelom - 0.011927480916\n",
      "Bree - 0.0091875\n",
      "As - 0.0041514041514\n",
      "Bilzen - 0.00727576705161\n",
      "Bekkevoort - 0.00446642207689\n",
      "Heers - 0.0148249828415\n",
      "Diepenbeek - 0.00831024930748\n",
      "Maasmechelen - 0.00443069501612\n",
      "Tessenderlo - 0.00497109201924\n",
      "Geetbets - 0.0177387267905\n",
      "Halen - 0.0106810490694\n",
      "Overpelt - 0.00853374709077\n",
      "Hoeselt - 0.00908809253331\n",
      "Linter - 0.0033089755963\n",
      "Ham - 0.0030518819939\n",
      "Genk - 0.00319517846056\n",
      "Dessel - 0.00387921996226\n",
      "Diest - 0.00860946621309\n",
      "Kortenaken - 0.0127048659637\n",
      "Riemst - 0.00930707337577\n",
      "Alken - 0.0102040816327\n",
      "Herstappe - 0.0681818181818\n",
      "Zutendaal - 0.00594497442278\n",
      "Meerhout - 0.00329425443271\n",
      "Lanaken - 0.00554392494379\n",
      "Laakdal - 6.24726682077e-05\n",
      "Mol - 0.00383498602969\n",
      "Wellen - 0.0104039994595\n",
      "Neerpelt - 0.00722063704653\n"
     ]
    }
   ],
   "source": [
    "print(\"Overall stops per citizen: {}\".format(stop_per_citizen_total))\n",
    "print(\"Town - stops per citizen\")\n",
    "print(\"------------------------\\n\")\n",
    "\n",
    "for town in town_stop_per_citizen:\n",
    "  print(\"{} - {}\".format(town[0], town[1]))"
   ]
  }
 ],
 "metadata": {
  "kernelspec": {
   "display_name": "Python 2",
   "language": "python",
   "name": "python2"
  },
  "language_info": {
   "codemirror_mode": {
    "name": "ipython",
    "version": 2
   },
   "file_extension": ".py",
   "mimetype": "text/x-python",
   "name": "python",
   "nbconvert_exporter": "python",
   "pygments_lexer": "ipython2",
   "version": "2.7.15+"
  },
  "pycharm": {
   "stem_cell": {
    "cell_type": "raw",
    "source": [],
    "metadata": {
     "collapsed": false
    }
   }
  }
 },
 "nbformat": 4,
 "nbformat_minor": 1
}