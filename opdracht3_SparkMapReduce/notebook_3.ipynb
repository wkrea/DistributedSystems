{
 "cells": [
  {
   "cell_type": "markdown",
   "metadata": {
    "collapsed": true,
    "pycharm": {
     "name": "#%% md\n"
    }
   },
   "source": [
    "In this exercise we determine the stops per citizen for each town and then sort\n",
    "the results (these are (town, stop-per-citizen) tuples) by the name of the town.\n",
    "\n",
    "First we initialise PySpark.\n"
   ]
  },
  {
   "cell_type": "code",
   "execution_count": 1,
   "metadata": {
    "pycharm": {
     "is_executing": false,
     "name": "#%%\n"
    }
   },
   "outputs": [],
   "source": [
    "from pyspark import SparkContext\n",
    "\n",
    "sc = SparkContext.getOrCreate()\n"
   ]
  },
  {
   "cell_type": "markdown",
   "metadata": {},
   "source": [
    "We first read all the stops. The specified file is a preprocessed version of the JSON \"stops.txt\", in which \n",
    "each line contains one stop in the format \n",
    "\n",
    "halte_id;halte_name;lat;long;town_name\n",
    "\n",
    "This makes it easier\n",
    "to parse since it only requires a call to str.split().\n",
    "The result is an RDD with tuples (halte_id, halte_name, lat, long, town_name).\n"
   ]
  },
  {
   "cell_type": "code",
   "execution_count": 2,
   "metadata": {
    "pycharm": {
     "is_executing": false,
     "name": "#%%\n"
    }
   },
   "outputs": [],
   "source": [
    "stops = sc.textFile(\"./converted_stops.csv\").map(lambda stop: tuple([x.strip() for x in stop.split(\";\")]))\n"
   ]
  },
  {
   "cell_type": "markdown",
   "metadata": {
    "pycharm": {
     "name": "#%% md\n"
    }
   },
   "source": [
    "Next, we create a map that converts deelgemeenten to gemeenten. This\n",
    "is a preprocessed version of the \"flemish_districts.txt\" file in\n",
    "which each line is of the format \"subtown;town\". This results in an RDD\n",
    "of format (district-name, town-name).\n",
    "\n",
    "We also create a map that maps town names to town populations. This is\n",
    "a preprocessed version of the \"citizens2.txt\" file. This results in an RDD\n",
    "of format (town-name, pop).\n"
   ]
  },
  {
   "cell_type": "code",
   "execution_count": 3,
   "metadata": {
    "pycharm": {
     "is_executing": false,
     "name": "#%%\n"
    }
   },
   "outputs": [],
   "source": [
    "# maps subtowns to towns\n",
    "townname_map = sc.textFile(\"./townname_map.csv\").map(lambda mapping: tuple([x.strip() for x in mapping.split(\";\")]))\n",
    "\n",
    "# maps towns to town populations\n",
    "townpop_map = sc.textFile(\"./town_pop_map.csv\").map(lambda mapping: tuple([x.strip() for x in mapping.split(\";\")]))\n"
   ]
  },
  {
   "cell_type": "markdown",
   "metadata": {
    "pycharm": {
     "name": "#%% md\n"
    }
   },
   "source": [
    "We first join the stops with the town-name-map, to discover to which towns the stops\n",
    "belong. This results in (district-name, (stop, town-name)) tuples which\n",
    "are then mapped to (town-name, stop).\n",
    "\n",
    "Now that we have keyed the stops by their town name, we join those tuples\n",
    "with the (town-name, pop) tuples of the town-name map. Resulting in (town-name, (stop, pop)) tuples.\n",
    "\n",
    "If we don't apply the town-name-map first, \n",
    "around 1114 towns will not have a corresponding population and would be removed.\n",
    "This is because town populations are per town and not per district while the stops\n",
    "are per district.\n",
    "\n",
    "However 274 districts specified in the stops do not have a mapping in the\n",
    "town-name-map and will be lost. Also, 68 towns do not have a specified population\n",
    "and will thus also be lost. All this is caused by inaccuracies in the original data which\n",
    "is not possible to fix since it would need to be done by hand. These stats were obtained during\n",
    "preprocessing.\n"
   ]
  },
  {
   "cell_type": "code",
   "execution_count": 4,
   "metadata": {
    "pycharm": {
     "is_executing": false,
     "name": "#%%\n"
    }
   },
   "outputs": [],
   "source": [
    "# first label the stops by their location, then join with the town-name-map to get (subtown, (stop, town))\n",
    "# lastly we cleanup the list so that we get (townname, stop)\n",
    "# this RDD contains data for 306 towns \n",
    "stops_with_towns = stops.keyBy(lambda stop: stop[4]).join(townname_map).map(lambda x: (x[1][1], x[1][0]))\n",
    "\n",
    "# we join the list of (townname, stop) tuples with the (townname, population) tuples of the town-pop-map\n",
    "# we then get a list of (townname, (stop, pop))\n",
    "# this RDD contains data for 238 towns (=306-68)\n",
    "# the 68 missing towns account for about 12000 stops \n",
    "# ~176 stops / town which is reasonable since big cities such as Antwerp are lost\n",
    "stops_with_pop = stops_with_towns.join(townpop_map)\n",
    "\n",
    "# make list of towns specified in stops before and after join\n",
    "# town_list_pre_join = set([x[0] for x in stops_with_towns.collect()])\n",
    "# town_list_post_join = set([x[0] for x in stops_with_pop.collect()])\n",
    "# diff = town_list_pre_join - town_list_post_join\n",
    "# diff_size = len(diff) # this is equal to 68. This conforms to our predictions so the 12000 lost stops are accounted for\n"
   ]
  },
  {
   "cell_type": "markdown",
   "metadata": {
    "pycharm": {
     "name": "#%% md\n"
    }
   },
   "source": [
    "Lastly, we map the (townname, (stop, pop)) tuples to (townname, (1, pop)) tuples.\n",
    "Which are then added together so that the middle member contains the amount of stops for that town.\n",
    "\n",
    "(town, (x, pop)) + (town, (y, pop)) = (town, (x + y, pop))\n",
    "\n",
    "In order to determine the total amount of stops / citizen for each town we map as follows\n",
    "\n",
    "(town, (stops, pop)) -> (town, stops-per-citizen)\n",
    "\n",
    "And finally we sort the RDD by the name of the town using \"sortBy\".\n"
   ]
  },
  {
   "cell_type": "code",
   "execution_count": 5,
   "metadata": {
    "pycharm": {
     "is_executing": false,
     "name": "#%%\n"
    }
   },
   "outputs": [
    {
     "name": "stdout",
     "text": [
      "Aalter: 0.00520833333333\nAarschot: 0.00701028174656\nAartselaar: 0.00370681214156\nAffligem: 0.00514333257696\nAlken: 0.0102040816327\nAlveringem: 0.0153332022803\nAnzegem: 0.00630180149325\nArdooie: 0.00678682688028\nArendonk: 0.00452011450957\nAs: 0.0041514041514\nAsse: 0.00440194292653\nAssenede: 0.00767389467756\nAvelgem: 0.00476994931929\nBalen: 0.00691192865106\nBeernem: 0.00592998788497\nBeerse: 0.00345827755466\nBeersel: 0.00483323347314\nBegijnendijk: 0.00915149706555\nBekkevoort: 0.0119636305631\nBeringen: 0.00417146457514\nBerlaar: 0.00625760472797\nBerlare: 0.00464990902352\nBertem: 0.00722891566265\nBeveren: 0.00284456625555\nBierbeek: 0.00907911802853\nBilzen: 0.00727576705161\nBlankenberge: 0.0026112233335\nBocholt: 0.00718599495451\nBoechout: 0.00442275430837\nBonheiden: 0.00534973920021\nBoom: 0.00389863547758\nBoortmeerbeek: 0.00582288718156\nBornem: 0.00453300594957\nBorsbeek: 0.00196684461928\nBoutersem: 0.0104102878138\nBrakel: 0.0104244229337\nBrasschaat: 0.00362050739958\nBrecht: 0.00382824624935\nBredene: 0.00336757029803\nBree: 0.0123125\nBuggenhout: 0.00442294402211\nDamme: 0.0106257378985\nDe Haan: 0.00546404814697\nDe Pinte: 0.00626661602735\nDeerlijk: 0.00559606579617\nDeinze: 0.00518435034616\nDenderleeuw: 0.00273958955967\nDentergem: 0.00542260992573\nDessel: 0.00387921996226\nDestelbergen: 0.00793915167666\nDiepenbeek: 0.00831024930748\nDiest: 0.00860946621309\nDilbeek: 0.00529823156804\nDrogenbos: 0.00250447227191\nDuffel: 0.00351099343847\nEdegem: 0.00264405543399\nEeklo: 0.00383435582822\nEssen: 0.00215110178384\nGavere: 0.00501331662228\nGeel: 0.00584033086853\nGeetbets: 0.0177387267905\nGenk: 0.00319517846056\nGingelom: 0.0137166030534\nGistel: 0.00398340248963\nGlabbeek: 0.0258636964319\nGooik: 0.0117009750813\nGrimbergen: 0.00393911785197\nGrobbendonk: 0.00458756858865\nHaacht: 0.00566846398452\nHaaltert: 0.00628964918939\nHalen: 0.0106810490694\nHam: 0.0030518819939\nHamme: 0.00310171198389\nHarelbeke: 0.00376627569138\nHeers: 0.0148249828415\nHemiksem: 0.00387596899225\nHerent: 0.00540840382749\nHerentals: 0.00452198682571\nHerenthout: 0.00480393252151\nHerne: 0.0117434507678\nHerselt: 0.00894639047554\nHerstappe: 0.0681818181818\nHerzele: 0.00908885627188\nHeuvelland: 0.016186591894\nHoegaarden: 0.00749279538905\nHoeilaart: 0.00393877002954\nHoeselt: 0.00908809253331\nHolsbeek: 0.00494849525348\nHooglede: 0.00713639561765\nHoogstraten: 0.00441459634622\nHorebeke: 0.0146627565982\nHouthulst: 0.00797368683345\nHove: 0.00455945779421\nHuldenberg: 0.0105241853876\nHulshout: 0.00472243639167\nIchtegem: 0.00616929698709\nIngelmunster: 0.00457749702463\nIzegem: 0.00320975187536\nJabbeke: 0.00331507639089\nKalmthout: 0.00198903343726\nKampenhout: 0.00504201680672\nKaprijke: 0.00903286092509\nKasterlee: 0.00446813092162\nKeerbergen: 0.00259189443921\nKinrooi: 0.00703937136777\nKluisbergen: 0.00605026372944\nKnesselare: 0.00753249908881\nKoekelare: 0.00921187308086\nKoksijde: 0.00419019857898\nKontich: 0.0040353209267\nKortemark: 0.00739915665526\nKortenaken: 0.0193113962648\nKortenberg: 0.0056407718951\nKortessem: 0.012083876318\nKraainem: 0.00270606304396\nKruibeke: 0.00300102034692\nKruishoutem: 0.00742390497402\nKuurne: 0.00533113080042\nLaakdal: 0.00805897419879\nLaarne: 0.00592711253504\nLanaken: 0.00554392494379\nLanden: 0.0097787250047\nLebbeke: 0.00505524286012\nLede: 0.00531714914872\nLedegem: 0.00534979423868\nLendelede: 0.00400766684091\nLennik: 0.00931160625208\nLichtervelde: 0.00409509725856\nLiedekerke: 0.00364160534102\nLierde: 0.0124866758033\nLille: 0.00424268137463\nLinkebeek: 0.00547022932884\nLint: 0.00273473108478\nLinter: 0.0103405487385\nLochristi: 0.00511233687609\nLokeren: 0.00458704521861\nLommel: 0.00193980719492\nLonderzeel: 0.00531857741485\nLovendegem: 0.00511749347258\nLubbeek: 0.0090359352193\nLummen: 0.00522317188984\nMaarkedal: 0.0137245622338\nMaasmechelen: 0.00443069501612\nMachelen: 0.00558514092739\nMaldegem: 0.00574300071788\nMalle: 0.00477373790217\nMeerhout: 0.00329425443271\nMeise: 0.00548188367965\nMelle: 0.00691622719806\nMerchtem: 0.00368211107702\nMerelbeke: 0.00487230500629\nMerksplas: 0.00523134154848\nMeulebeke: 0.00468276558626\nMiddelkerke: 0.00470041322314\nMol: 0.00383498602969\nMoorslede: 0.00397076076166\nMortsel: 0.00217071090782\nNazareth: 0.00621922777922\nNeerpelt: 0.00722063704653\nNevele: 0.00640551860064\nNiel: 0.00259017651573\nNieuwerkerken: 0.00589334483254\nNijlen: 0.00403526470459\nNinove: 0.00542958347338\nOlen: 0.00512738343214\nOosterzele: 0.00672380670903\nOostkamp: 0.00598040463163\nOostrozebeke: 0.00509748948643\nOpglabbeek: 0.00387259173202\nOpwijk: 0.00479632976505\nOudenburg: 0.00527392099882\nOverijse: 0.00512535261631\nOverpelt: 0.00853374709077\nPeer: 0.00713371135906\nPepingen: 0.0201188843164\nPittem: 0.00577863387168\nPoperinge: 0.00831769538977\nPutte: 0.00551637852593\nPuurs: 0.00578862906923\nRanst: 0.00284525001317\nRavels: 0.00498148771457\nRetie: 0.00293960448958\nRiemst: 0.00930707337577\nRijkevorsel: 0.0052874527906\nRoosdaal: 0.0053347100327\nRotselaar: 0.00419790104948\nRuiselede: 0.0066852367688\nRumst: 0.0048341169459\nSchelle: 0.00272673384707\nStabroek: 0.0032933808444\nStaden: 0.00694566555302\nSteenokkerzeel: 0.00504716200563\nStekene: 0.00621524370298\nTernat: 0.00743230142829\nTervuren: 0.00440489032722\nTessenderlo: 0.00497109201924\nTielt: 0.00652216555512\nTorhout: 0.00477955520874\nTremelo: 0.00384122919334\nTurnhout: 0.00374701941637\nVleteren: 0.0180426462548\nVorselaar: 0.0019130212983\nVosselaar: 0.00367218987909\nWaarschoot: 0.00502323245008\nWaasmunster: 0.00473581576748\nWachtebeke: 0.00898905680042\nWaregem: 0.00328049548604\nWellen: 0.0104039994595\nWemmel: 0.00294081607646\nWervik: 0.00493774151997\nWesterlo: 0.00285553410553\nWetteren: 0.00471253534402\nWevelgem: 0.00350485900908\nWichelen: 0.00474956822107\nWielsbeke: 0.00521866193508\nWijnegem: 0.00278207109737\nWillebroek: 0.0038886770873\nWingene: 0.00541148358985\nWommelgem: 0.00333850931677\nWuustwezel: 0.00362967623288\nZandhoven: 0.00415992604576\nZaventem: 0.00382256200551\nZedelgem: 0.0054777576534\nZele: 0.00338853624779\nZelzate: 0.00291614123581\nZemst: 0.00240065160544\nZingem: 0.00622269296968\nZoersel: 0.00128806697948\nZomergem: 0.00697646919711\nZonhoven: 0.00593947393231\nZonnebeke: 0.00675024108004\nZottegem: 0.00728155339806\nZuienkerke: 0.0245241581259\nZulte: 0.00216381340291\nZutendaal: 0.00594497442278\nZwalm: 0.00922509225092\nZwevegem: 0.00524347614015\nZwijndrecht: 0.00305407824759\n"
     ],
     "output_type": "stream"
    }
   ],
   "source": [
    "towns_stopcount_pop = stops_with_pop.map(lambda x: (x[0], (1, x[1][1]))).reduceByKey(lambda x, y: (x[0] + y[0], x[1]))\n",
    "towns_stops_per_citizen = towns_stopcount_pop.mapValues(lambda x: float(x[0]) / float(x[1]))\n",
    "result = towns_stops_per_citizen.sortBy(lambda x: x[0]).collect()\n",
    "\n",
    "for town in result:\n",
    "  print(\"{}: {}\".format(town[0], town[1]))\n"
   ]
  }
 ],
 "metadata": {
  "kernelspec": {
   "display_name": "PyCharm (code)",
   "language": "python",
   "name": "pycharm-6ce83ca7"
  },
  "language_info": {
   "codemirror_mode": {
    "name": "ipython",
    "version": 2
   },
   "file_extension": ".py",
   "mimetype": "text/x-python",
   "name": "python",
   "nbconvert_exporter": "python",
   "pygments_lexer": "ipython2",
   "version": "2.7.15+"
  },
  "pycharm": {
   "stem_cell": {
    "cell_type": "raw",
    "metadata": {
     "collapsed": false
    },
    "source": []
   }
  }
 },
 "nbformat": 4,
 "nbformat_minor": 1
}