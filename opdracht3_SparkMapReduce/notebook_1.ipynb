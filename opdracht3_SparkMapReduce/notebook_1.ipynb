{
 "cells": [
  {
   "cell_type": "markdown",
   "metadata": {},
   "source": [
    "For this exercise we will determine the overall stops per citizens for\n",
    "all stops and all citizens.\n",
    "\n",
    "First we initialise PySpark\n"
   ]
  },
  {
   "cell_type": "code",
   "execution_count": 1,
   "metadata": {
    "pycharm": {
     "is_executing": false
    }
   },
   "outputs": [],
   "source": [
    "from pyspark import SparkContext\n",
    "\n",
    "sc = SparkContext.getOrCreate()\n"
   ]
  },
  {
   "cell_type": "markdown",
   "metadata": {},
   "source": [
    "Next we use the stops data to determine the total amount of stops. This file has been preprocessed from \n",
    "the original JSON file \"stops.txt\" into a CSV file with one stop on each line. The exact composition of each\n",
    "line is not important, but the amount of lines equals the total amount of stops so we just count them.\n"
   ]
  },
  {
   "cell_type": "code",
   "execution_count": 2,
   "metadata": {
    "pycharm": {
     "is_executing": false,
     "name": "#%% \n"
    }
   },
   "outputs": [],
   "source": [
    "stop_count = sc.textFile(\"./converted_stops.csv\").count()\n"
   ]
  },
  {
   "cell_type": "markdown",
   "metadata": {
    "pycharm": {
     "name": "#%% md\n"
    }
   },
   "source": [
    "Next we determine the total amount of citizens by adding up all the town populations. The town populations\n",
    "file is a preprocessed version of the \"citizens2.txt\" file in which the delimiter between the town\n",
    "name and the population has been replaced by \";\" and the dot in the number has been removed to make\n",
    "parsing easier.\n"
   ]
  },
  {
   "cell_type": "code",
   "execution_count": 3,
   "metadata": {
    "pycharm": {
     "is_executing": false,
     "name": "#%%\n"
    }
   },
   "outputs": [],
   "source": [
    "citizen_count = sc.textFile(\"./town_pop_map.csv\").map(lambda x: int(x.split(\";\")[1])).sum()\n"
   ]
  },
  {
   "cell_type": "markdown",
   "metadata": {
    "pycharm": {
     "name": "#%% md\n"
    }
   },
   "source": [
    "Finally we divide the number of stops by the number of citizens to obtain to amount of \n",
    "stops per citizen.\n"
   ]
  },
  {
   "cell_type": "code",
   "execution_count": 4,
   "metadata": {
    "pycharm": {
     "is_executing": false,
     "name": "#%%\n"
    }
   },
   "outputs": [
    {
     "name": "stdout",
     "output_type": "stream",
     "text": [
      "0.0031509838967\n"
     ]
    }
   ],
   "source": [
    "stops_per_citizen = float(stop_count) / float(citizen_count)\n",
    "print(stops_per_citizen)\n"
   ]
  }
 ],
 "metadata": {
  "kernelspec": {
   "display_name": "Python 2",
   "language": "python",
   "name": "python2"
  },
  "language_info": {
   "codemirror_mode": {
    "name": "ipython",
    "version": 2
   },
   "file_extension": ".py",
   "mimetype": "text/x-python",
   "name": "python",
   "nbconvert_exporter": "python",
   "pygments_lexer": "ipython2",
   "version": "2.7.15+"
  },
  "pycharm": {
   "stem_cell": {
    "cell_type": "raw",
    "metadata": {
     "collapsed": false
    },
    "source": []
   }
  }
 },
 "nbformat": 4,
 "nbformat_minor": 1
}
