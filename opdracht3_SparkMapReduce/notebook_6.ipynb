{
 "cells": [
  {
   "cell_type": "markdown",
   "metadata": {
    "collapsed": true,
    "pycharm": {
     "name": "#%% md\n"
    }
   },
   "source": [
    "In this exercise we determine which stop is the closest to the specified position.\n",
    "\n",
    "We copy the first part of exercise 4 in order to calculate the distance between each stop\n",
    "and the specified position.\n",
    "\n",
    "First we initialise PySpark.\n"
   ]
  },
  {
   "cell_type": "code",
   "execution_count": 1,
   "metadata": {
    "pycharm": {
     "is_executing": false,
     "name": "#%%\n"
    }
   },
   "outputs": [],
   "source": [
    "from pyspark import SparkContext\n",
    "\n",
    "sc = SparkContext.getOrCreate()\n"
   ]
  },
  {
   "cell_type": "markdown",
   "metadata": {
    "pycharm": {
     "name": "#%% md\n"
    }
   },
   "source": [
    "We first read all the stops. The specified file is a preprocessed version of the JSON \"stops.txt\", in which \n",
    "each line contains one stop in the format \n",
    "\n",
    "halte_id;halte_name;lat;long;town_name\n",
    "\n",
    "This makes it easier\n",
    "to parse since it only requires a call to str.split().\n"
   ]
  },
  {
   "cell_type": "code",
   "execution_count": 2,
   "metadata": {
    "pycharm": {
     "is_executing": false,
     "name": "#%%\n"
    }
   },
   "outputs": [],
   "source": [
    "stops = sc.textFile(\"./converted_stops.csv\").map(lambda stop: tuple([x.strip() for x in stop.split(\";\")]))\n"
   ]
  },
  {
   "cell_type": "markdown",
   "metadata": {
    "pycharm": {
     "name": "#%% md\n"
    }
   },
   "source": [
    "In order to determine the amount of stops inside a radius, we first need to\n",
    "add the radius and coordinate data to the stops. \n",
    "\n",
    "The user can select a point by setting the variables \"lat\", \"long\".\n",
    "\n",
    "This is done using a simple map.\n",
    "The result is an RDD with tuples of the form (stop, point).\n"
   ]
  },
  {
   "cell_type": "code",
   "execution_count": 3,
   "metadata": {
    "pycharm": {
     "is_executing": false,
     "name": "#%%\n"
    }
   },
   "outputs": [],
   "source": [
    "# these need to be floats!\n",
    "lat = 51.21989\n",
    "long = 4.40346\n",
    "\n",
    "stops_with_geodata = stops.map(lambda stop: (stop, (lat, long)))\n"
   ]
  },
  {
   "cell_type": "markdown",
   "metadata": {
    "pycharm": {
     "name": "#%% md\n"
    }
   },
   "source": [
    "Next, we create a function that determines the distance between the specified \n",
    "point, and a set of coordinates. We use the function to map the \n",
    "(stop, point) tuples to (stop, distance) tuples. \n",
    "\n",
    "For this we also need the coordinates of the stops themselves, for this we have the function \"get_stop_coord\".\n",
    "\n",
    "Note: since the earth is a sphere euclidian distances are not \n",
    "accurate enough, I have used an online implementation of the haversine method.\n",
    "http://evoling.net/code/haversine/\n",
    "https://stackoverflow.com/questions/4913349/haversine-formula-in-python-bearing-and-distance-between-two-gps-points/4913653#4913653\n",
    "There are many sources, I don't know which one is the original.\n"
   ]
  },
  {
   "cell_type": "code",
   "execution_count": 4,
   "metadata": {
    "pycharm": {
     "is_executing": false,
     "name": "#%%\n"
    }
   },
   "outputs": [],
   "source": [
    "def haversine(coord1, coord2):\n",
    "    from math import radians, cos, sin, asin, sqrt\n",
    "    \"\"\"\n",
    "    Calculate the great circle distance between two points \n",
    "    on the earth (specified in decimal degrees)\n",
    "    \"\"\"\n",
    "    \n",
    "    lat1, lon1 = coord1\n",
    "    lat2, lon2 = coord2\n",
    "    \n",
    "    # convert decimal degrees to radians \n",
    "    lon1, lat1, lon2, lat2 = map(radians, [lon1, lat1, lon2, lat2])\n",
    "    # haversine formula \n",
    "    dlon = lon2 - lon1 \n",
    "    dlat = lat2 - lat1 \n",
    "    a = sin(dlat/2.0)**2.0 + cos(lat1) * cos(lat2) * sin(dlon/2.0)**2.0\n",
    "    c = 2.0 * asin(sqrt(a)) \n",
    "    # Radius of earth in kilometers is 6371\n",
    "    km = 6371.0 * c\n",
    "    m = km * 1000.0\n",
    "    return m\n",
    "\n",
    "def get_stop_coord(stop):\n",
    "  \"\"\"Retrieve the geo coordinate of a stop.\"\"\"\n",
    "  return float(stop[2]), float(stop[3])\n",
    "\n",
    "stop_with_distance = stops_with_geodata.map(lambda x: (x[0], haversine(get_stop_coord(x[0]), x[1])))\n"
   ]
  },
  {
   "cell_type": "markdown",
   "metadata": {
    "pycharm": {
     "name": "#%% md\n"
    }
   },
   "source": [
    "Now that we've obtained the stops and their respective \n",
    "distances to the user specified point, we will sort the stops\n",
    "by that distance using the \"sortBy\". To retrieve the closest point, we will simply\n",
    "retrieve the first element, using the \"take\" method that takes\n",
    "the first n elements of the RDD (but this does not sort them, so this is\n",
    "efficient).\n",
    "\n",
    "The result is a single tuple (stop, distance)\n"
   ]
  },
  {
   "cell_type": "code",
   "execution_count": 5,
   "metadata": {
    "pycharm": {
     "is_executing": false,
     "name": "#%%\n"
    }
   },
   "outputs": [],
   "source": [
    "stops_sorted_by_distance = stop_with_distance.sortBy(lambda x : x[1])\n",
    "closest = stops_sorted_by_distance.take(1)[0] # take 0-th element of list of size 1\n"
   ]
  },
  {
   "cell_type": "markdown",
   "metadata": {
    "pycharm": {
     "name": "#%% md\n"
    }
   },
   "source": [
    "Finally, we print the result.\n"
   ]
  },
  {
   "cell_type": "code",
   "execution_count": 6,
   "metadata": {
    "pycharm": {
     "is_executing": false,
     "name": "#%%\n"
    }
   },
   "outputs": [
    {
     "name": "stdout",
     "output_type": "stream",
     "text": [
      "The closest stop to (51.21989, 4.40346) is:\n",
      "Name=Melkmarkt\n",
      "City=Antwerpen\n",
      "Distance=71.9400173804 meters\n"
     ]
    }
   ],
   "source": [
    "print(\"The closest stop to ({}, {}) is:\".format(lat, long))\n",
    "print(\"Name={}\".format(closest[0][1]))\n",
    "print(\"City={}\".format(closest[0][4]))\n",
    "print(\"Distance={} meters\".format(closest[1]))\n"
   ]
  }
 ],
 "metadata": {
  "kernelspec": {
   "display_name": "Python 2",
   "language": "python",
   "name": "python2"
  },
  "language_info": {
   "codemirror_mode": {
    "name": "ipython",
    "version": 2
   },
   "file_extension": ".py",
   "mimetype": "text/x-python",
   "name": "python",
   "nbconvert_exporter": "python",
   "pygments_lexer": "ipython2",
   "version": "2.7.15+"
  },
  "pycharm": {
   "stem_cell": {
    "cell_type": "raw",
    "source": [],
    "metadata": {
     "collapsed": false
    }
   }
  }
 },
 "nbformat": 4,
 "nbformat_minor": 1
}