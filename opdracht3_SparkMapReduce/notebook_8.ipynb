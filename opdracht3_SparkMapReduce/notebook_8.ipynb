{
 "cells": [
  {
   "cell_type": "markdown",
   "metadata": {
    "collapsed": true,
    "pycharm": {
     "name": "#%% md\n"
    }
   },
   "source": [
    "\n",
    "In this exercise we will determine the towns where a minimum of X% of the stops is located within\n",
    "the specified radius of the center of the town.\n",
    "\n",
    "First we determine all the stops that are within the radius of the specified point. (this is identical to ex. 4).\n",
    "\n",
    "We then determine the towns that the stops are located in.\n",
    "\n",
    "Lastly we count the stops per town and determine the percentage.\n",
    "\n",
    "First we initialise PySpark.\n"
   ]
  },
  {
   "cell_type": "code",
   "execution_count": 2,
   "metadata": {
    "pycharm": {
     "is_executing": false,
     "name": "#%%\n"
    }
   },
   "outputs": [],
   "source": [
    "from pyspark import SparkContext\n",
    "\n",
    "sc = SparkContext.getOrCreate()\n"
   ]
  },
  {
   "cell_type": "markdown",
   "metadata": {
    "pycharm": {
     "name": "#%% md\n"
    }
   },
   "source": [
    "We first read all the stops. The specified file is a preprocessed version of the JSON \"stops.txt\", in which \n",
    "each line contains one stop in the format \n",
    "\n",
    "halte_id;halte_name;lat;long;town_name\n",
    "\n",
    "This makes it easier to parse since it only requires a call to str.split(). The result is an RDD with tuples\n",
    "(halte_id, halte_name, lat, long, town_name).\n"
   ]
  },
  {
   "cell_type": "code",
   "execution_count": 3,
   "metadata": {
    "pycharm": {
     "is_executing": false,
     "name": "#%%\n"
    }
   },
   "outputs": [],
   "source": [
    "stops = sc.textFile(\"./converted_stops.csv\").map(lambda stop: tuple([x.strip() for x in stop.split(\";\")]))\n"
   ]
  },
  {
   "cell_type": "markdown",
   "metadata": {},
   "source": [
    "The user can specify a radius (in meters) by setting the \"radius\" variable.\n",
    "\n",
    "The user can select a minimum percentage by setting the \"minimum_pct\" value (value in [0, 100])\n"
   ]
  },
  {
   "cell_type": "code",
   "execution_count": 4,
   "metadata": {
    "pycharm": {
     "is_executing": false,
     "name": "#%%\n"
    }
   },
   "outputs": [],
   "source": [
    "# must be float\n",
    "# in meters\n",
    "radius = 300.0\n",
    "\n",
    "# must be float!\n",
    "minimum_pct = 20.0\n",
    "\n",
    "minimum_frac = minimum_pct / 100.0\n"
   ]
  },
  {
   "cell_type": "markdown",
   "source": [
    "In order to determine whether we stops are within a certain distance of the town, we need to have the town coordinates.\n",
    "This CSV file is a preprocessed version of \"zipcodes.csv\" which filters out useless data. This creates an RDD with tuples (district-name, (lat, long))\n",
    "\n",
    "We also map the (stop) tuples to (distict-name, stop) tuples. Afterwards we join the two RDDs resulting in tuples\n",
    "(district-name, (stop, (lat, long)).\n"
   ],
   "metadata": {
    "collapsed": false,
    "pycharm": {
     "name": "#%% md\n"
    }
   }
  },
  {
   "cell_type": "code",
   "execution_count": 5,
   "outputs": [],
   "source": [
    "town_coords = sc.textFile(\"./coord_map.csv\").map(lambda towncoord: tuple([x.strip() for x in towncoord.split(\";\")])).map(lambda x: (x[0], (x[1], x[2])))\n",
    "\n",
    "stops_by_district = stops.keyBy(lambda x: x[4])\n",
    "\n",
    "stop_with_towncenter = stops_by_district.join(town_coords)\n"
   ],
   "metadata": {
    "collapsed": false,
    "pycharm": {
     "name": "#%%\n",
     "is_executing": false
    }
   }
  },
  {
   "cell_type": "markdown",
   "metadata": {},
   "source": [
    "Next, we create a function that determines the distance between the specified point, and a set of coordinates. \n",
    "\n",
    "Note: since the earth is a sphere euclidian distances are not \n",
    "accurate enough, I have used an online implementation of the haversine method.\n",
    "http://evoling.net/code/haversine/\n",
    "https://stackoverflow.com/questions/4913349/haversine-formula-in-python-bearing-and-distance-between-two-gps-points/4913653#4913653\n",
    "There are many sources, I don't know which one is the original.\n"
   ]
  },
  {
   "cell_type": "code",
   "execution_count": 6,
   "metadata": {
    "pycharm": {
     "is_executing": false,
     "name": "#%%\n"
    }
   },
   "outputs": [],
   "source": [
    "def haversine(coord1, coord2):\n",
    "    from math import radians, cos, sin, asin, sqrt\n",
    "    \"\"\"\n",
    "    Calculate the great circle distance between two points \n",
    "    on the earth (specified in decimal degrees)\n",
    "    \"\"\"\n",
    "    \n",
    "    lat1, lon1 = coord1\n",
    "    lat2, lon2 = coord2\n",
    "    \n",
    "    lat1 = float(lat1)\n",
    "    lon1 = float(lon1)\n",
    "    lat2 = float(lat2)\n",
    "    lon2 = float(lon2)\n",
    "    \n",
    "    # convert decimal degrees to radians \n",
    "    lon1, lat1, lon2, lat2 = map(radians, [lon1, lat1, lon2, lat2])\n",
    "    # haversine formula \n",
    "    dlon = lon2 - lon1 \n",
    "    dlat = lat2 - lat1 \n",
    "    a = sin(dlat/2.0)**2.0 + cos(lat1) * cos(lat2) * sin(dlon/2.0)**2.0\n",
    "    c = 2.0 * asin(sqrt(a)) \n",
    "    # Radius of earth in kilometers is 6371\n",
    "    km = 6371.0 * c\n",
    "    m = km * 1000.0\n",
    "    return m\n",
    "\n",
    "def get_stop_coord(stop):\n",
    "  \"\"\"Retrieve the geo coordinate of a stop.\"\"\"\n",
    "  return float(stop[2]), float(stop[3])\n",
    "\n"
   ]
  },
  {
   "cell_type": "markdown",
   "source": [
    "We use the function to decide the distance between towns centers and stops.\n",
    "The (district-name, (stop, (lat, long)) tuples will thus be mapped to (district-name, (stop-within-radius, 1) tuples.\n",
    "\n",
    "In contrast to previous exercises, we don't apply a filter here since\n",
    "we need to count both the stops within range and those out of range. Instead, we give each stop\n",
    "a flag \"stop-within-radius\". \"stop-within-radius\" is either 1 for stops that are within range or 0 for stops that are not in range.\n",
    "\n",
    "The \"1\" component of the tuple, is so that all the stops can be added together as:\n",
    "\n",
    "(district-name, (x, y)) + (district-name, (a, b)) = (district-name, (x+a, y+b))\n",
    "\n",
    "So that the first component determines the amount of stops that are within the radius and the second component determines the total amount of stops.\n",
    "\n",
    "It would be more orderly to do this mapping step by step in multiple steps, but since that would negatively impact\n",
    "performance, I did the complete mapping at once.\n"
   ],
   "metadata": {
    "collapsed": false,
    "pycharm": {
     "name": "#%% md\n"
    }
   }
  },
  {
   "cell_type": "code",
   "execution_count": 7,
   "outputs": [],
   "source": [
    "# (district-name:str, (stop:tuple, in-range:bool))\n",
    "stops_by_district_with_flag = stop_with_towncenter.map( lambda x : (x[0], (int(haversine(get_stop_coord(x[1][0]), x[1][1]) <= radius),  1 )))\n"
   ],
   "metadata": {
    "collapsed": false,
    "pycharm": {
     "name": "#%%\n",
     "is_executing": false
    }
   }
  },
  {
   "cell_type": "markdown",
   "metadata": {
    "pycharm": {
     "name": "#%% md\n"
    }
   },
   "source": [
    "The final step consists of counting the stops that are within the radius and those that are outside of the radius. We use reduce by\n",
    "key since all items with the same district name need to be grouped together. The reduction itself is done by a pairwise addition.\n",
    "\n",
    "The result is an RDD with tuples (district-name, (nr-stops-in-range, total-stop-count))\n"
   ]
  },
  {
   "cell_type": "code",
   "execution_count": 8,
   "metadata": {
    "pycharm": {
     "is_executing": false,
     "name": "#%%\n"
    }
   },
   "outputs": [],
   "source": [
    "\n",
    "stop_in_range_per_town = stops_by_district_with_flag.reduceByKey(lambda x, y: (x[0] + y[0], x[1] + y[1]))\n"
   ]
  },
  {
   "cell_type": "markdown",
   "metadata": {
    "pycharm": {
     "name": "#%% md\n"
    }
   },
   "source": [
    "Since we want to check which towns conform to a percentage minimum, we need to determine percentages. We will apply a\n",
    "simple division and apply a check so we don't divide by zero. This results in tuples (town-name, stop-in-range-frac).\n",
    "\n",
    "These tuples are then filtered so that only towns with enough stops inside the radius are left.\n"
   ]
  },
  {
   "cell_type": "code",
   "execution_count": 9,
   "metadata": {
    "pycharm": {
     "is_executing": false,
     "name": "#%%\n"
    }
   },
   "outputs": [],
   "source": [
    "stop_in_range_frac = stop_in_range_per_town.mapValues(lambda x: float(x[0]) / max(float(x[1]), 1))\n",
    "stop_in_range_frac_filtered = stop_in_range_frac.filter(lambda x: x[1] >= minimum_frac).collect()\n"
   ]
  },
  {
   "cell_type": "markdown",
   "metadata": {
    "pycharm": {
     "name": "#%% md\n"
    }
   },
   "source": [
    "Lastly, we print the out for each town.\n"
   ]
  },
  {
   "cell_type": "code",
   "execution_count": 11,
   "metadata": {
    "pycharm": {
     "is_executing": false,
     "name": "#%%\n"
    }
   },
   "outputs": [
    {
     "name": "stdout",
     "text": [
      "Town - Stop in range pct\n------------------------\n\nWestkerke: 35.2941176471%\nWulveringem: 30.0%\nDoel: 23.0769230769%\nHorpmaal: 54.5454545455%\nNiel-bij-Sint-Truiden: 30.0%\nSint-Eloois-Vijve: 20.0%\nCorswarem: 50.0%\nHelkijn: 25.0%\nOostham: 20.0%\nZarren: 22.2222222222%\nWestrem: 40.0%\nLeisele: 27.7777777778%\nWintershoven: 44.4444444444%\nBeverst: 33.3333333333%\nDuras: 100.0%\nHeldergem: 26.6666666667%\nOutrijve: 20.0%\nPoederlee: 33.3333333333%\nPollare: 33.3333333333%\nLapscheure: 37.5%\nSchore: 50.0%\nRutten: 28.5714285714%\nKessenich: 23.8095238095%\nGeraardsbergen: 40.9090909091%\nKobbegem: 22.2222222222%\nSint-Joris-Weert: 28.5714285714%\nBossuit: 66.6666666667%\nGlons: 20.0%\nBogaarden: 25.0%\nRelegem: 37.5%\nNokere: 60.0%\nZerkegem: 33.3333333333%\nKanne: 45.4545454545%\nGroot-Gelmen: 25.0%\nWoubrechtegem: 25.0%\nAttenhoven: 37.5%\nRukkelingen-Loon: 66.6666666667%\nEngelmanshoven: 28.5714285714%\nKoolskamp: 26.6666666667%\nBost: 58.3333333333%\nOpvelp: 20.0%\nMorkhoven: 21.4285714286%\nBoorsem: 50.0%\nOorbeek: 33.3333333333%\nParike: 20.0%\nLombardsijde: 62.5%\nKooigem: 33.3333333333%\nLampernisse: 33.3333333333%\nSint-Amands: 28.5714285714%\nPerk: 33.3333333333%\nBerloz: 30.7692307692%\nDiets-Heur: 28.5714285714%\nVorselaar: 20.0%\nSint-Martens-Lennik: 31.5789473684%\nBrielen: 25.0%\nMontenaken: 22.7272727273%\nRunkelen: 33.3333333333%\nBassenge: 66.6666666667%\nBroekom: 55.5555555556%\nOutgaarden: 40.0%\nKoninksem: 22.2222222222%\nBuvingen: 50.0%\nKlein-Gelmen: 33.3333333333%\nNerem: 40.0%\nBettincourt: 25.0%\nWebbekom: 27.7777777778%\nWestrozebeke: 22.7272727273%\nEmblem: 21.4285714286%\nUitbergen: 33.3333333333%\nBouwel: 33.3333333333%\nMartenslinde: 37.5%\nGrote-Spouwen: 20.0%\nHombeek: 25.0%\nHallaar: 28.5714285714%\nSint-Martens-Lierde: 24.0%\nSchuiferskapelle: 44.4444444444%\nNukerke: 28.0%\nLeupegem: 44.4444444444%\nNethen: 25.0%\nRosmeer: 20.0%\nHenis: 28.5714285714%\nSchoonaarde: 21.0526315789%\nLaar: 44.4444444444%\nRansberg: 22.2222222222%\nVolkegem: 50.0%\nGontrode: 20.0%\nGenoelselderen: 25.0%\nPellenberg: 21.0526315789%\nBellingen: 20.0%\nVurste: 100.0%\nVlamertinge: 21.0526315789%\nKorbeek-Lo: 23.0769230769%\nBinderveld: 33.3333333333%\nBeerlegem: 66.6666666667%\nMoortsele: 28.5714285714%\nSint-Maria-Latem: 50.0%\nWulvergem: 60.0%\nGotem: 75.0%\nVarendonk: 25.0%\nLovenjoel: 33.3333333333%\nMesen: 100.0%\nUikhoven: 20.0%\nNeerglabbeek: 35.2941176471%\nKorbeek-Dijle: 40.0%\nEname: 28.5714285714%\nGrotenberge: 21.4285714286%\nMiddelburg: 66.6666666667%\nEine: 62.5%\nNeervelp: 28.5714285714%\nGors-Opleeuw: 25.0%\nOverhespen: 33.3333333333%\nRamsdonk: 21.4285714286%\nGrazen: 66.6666666667%\nBoekhout: 100.0%\nEsen: 22.2222222222%\nReningelst: 25.0%\nZoutenaaie: 100.0%\nPoeke: 28.5714285714%\nVremde: 29.4117647059%\nDormaal: 30.0%\nVichte: 35.7142857143%\nRocourt: 28.5714285714%\nHulste: 28.5714285714%\nTielen: 25.0%\nOudenaken: 29.4117647059%\nWaarmaarde: 100.0%\nErondegem: 22.2222222222%\nDranouter: 21.0526315789%\nMal: 40.0%\nOekene: 26.6666666667%\nLissewege: 23.0769230769%\nHeurne: 40.0%\nWezeren: 33.3333333333%\nBovekerke: 23.5294117647%\nGoetsenhoven: 25.0%\nSluizen: 40.0%\nGijzelbrechtegem: 66.6666666667%\nSint-Kruis-Winkel: 25.0%\nKortrijk-Dutsel: 20.0%\nWortel: 33.3333333333%\nNossegem: 41.6666666667%\nLemberge: 66.6666666667%\nElverdinge: 23.5294117647%\nStalhille: 25.0%\nWambeek: 20.0%\nSint-Pieters-Rode: 33.3333333333%\nOetingen: 22.2222222222%\nPulderbos: 66.6666666667%\nBevel: 28.5714285714%\nWatou: 21.7391304348%\nSint-Jacobs-Kapelle: 100.0%\nMarkegem: 50.0%\nWiekevorst: 29.0322580645%\nViersel: 25.0%\nAttenrode: 25.0%\nIddergem: 30.7692307692%\nWakken: 27.2727272727%\nRozebeke: 33.3333333333%\nMichelbeke: 40.0%\nMielen-Boven-Aalst: 25.0%\nEggewaartskapelle: 33.3333333333%\nNoordschote: 33.3333333333%\nWaremme: 36.8421052632%\nSchalkhoven: 42.8571428571%\nMolenbeersel: 29.4117647059%\nVoorde: 35.2941176471%\nWestmeerbeek: 33.3333333333%\nKluizen: 33.3333333333%\nGijzenzele: 25.0%\nKerkhove: 50.0%\nHoeke: 50.0%\nZulzeke: 28.5714285714%\nLandskouter: 33.3333333333%\nOeselgem: 33.3333333333%\nElewijt: 40.0%\nHalmaal: 33.3333333333%\nAvekapelle: 25.0%\nZegelsem: 22.2222222222%\nNieuwenhove: 28.5714285714%\nNieuwenrode: 25.0%\nZeveneken: 33.3333333333%\nNieuwkapelle: 33.3333333333%\nPollinkhove: 30.7692307692%\nNeerlinter: 25.0%\nSerskamp: 28.5714285714%\nGroot-Loon: 50.0%\nDadizele: 27.2727272727%\nMazenzele: 28.5714285714%\nOpdorp: 28.5714285714%\nSint-Kornelis-Horebeke: 37.5%\nBatsheers: 50.0%\nWijtschate: 36.8421052632%\nMoerbeke: 25.0%\nSint-Huibrechts-Hern: 28.5714285714%\nStuivekenskerke: 20.0%\nAaigem: 20.8333333333%\nMeigem: 33.3333333333%\nStokrooie: 22.2222222222%\nRumsdorp: 66.6666666667%\nKerksken: 20.0%\nKaster: 42.8571428571%\nLippelo: 36.3636363636%\nMelsen: 33.3333333333%\nOeren: 100.0%\nRollegem-Kapelle: 30.0%\nGottem: 50.0%\nKoolkerke: 37.5%\nSint-Jan-in-Eremo: 28.5714285714%\nWillebringen: 40.0%\nVinderhoute: 57.1428571429%\nMullem: 20.0%\nWezemaal: 33.3333333333%\nOrdingen: 40.0%\nGuigoven: 33.3333333333%\nOudekapelle: 28.5714285714%\nSint-Agatha-Rode: 21.4285714286%\nLieferinge: 33.3333333333%\nMalderen: 20.0%\nAalbeke: 25.0%\nUlbeek: 33.3333333333%\nOkegem: 33.3333333333%\nBavegem: 46.1538461538%\nOosteeklo: 22.2222222222%\nGutschoven: 33.3333333333%\nBorchtlombeek: 41.6666666667%\nHerdersem: 36.8421052632%\nTerhagen: 57.1428571429%\nZuidschote: 33.3333333333%\nElene: 33.3333333333%\nGrimminge: 25.0%\nDikkele: 100.0%\nElst: 26.6666666667%\nWijer: 35.7142857143%\nWimmertingen: 100.0%\nLetterhoutem: 33.3333333333%\nHeikruis: 75.0%\nHeestert: 29.4117647059%\nWaasmont: 30.7692307692%\nIzenberge: 40.0%\nSint-Jan: 25.0%\nReppel: 30.0%\nBekkerzeel: 25.0%\nBavikhove: 30.0%\nMechelen-Bovelingen: 25.0%\nDiksmuide: 22.2222222222%\nWaarbeke: 66.6666666667%\nMaarke-Kerkem: 25.0%\nSpiere: 25.0%\nHeindonk: 25.0%\nUrsel: 25.0%\nGodveerdegem: 20.0%\nItterbeek: 30.0%\nEverberg: 25.0%\nSteenhuffel: 22.2222222222%\nVliermaalroot: 20.0%\nBuken: 75.0%\nDendermonde: 23.6842105263%\nSint-Martens-Leerne: 33.3333333333%\nLeut: 50.0%\nSint-Blasius-Boekel: 20.0%\nHoevenen: 25.0%\nMettekoven: 100.0%\nOoigem: 23.0769230769%\nVinkem: 25.0%\nHeffen: 45.4545454545%\nAfsnee: 20.0%\nSemmerzake: 44.4444444444%\nGruitrode: 24.2424242424%\nHollebeke: 40.0%\nGelinden: 20.0%\nLauwe: 27.2727272727%\nLint: 25.0%\nZande: 20.0%\nWanzele: 50.0%\nGorsem: 33.3333333333%\nVeulen: 50.0%\nHoelbeek: 33.3333333333%\nRupelmonde: 33.3333333333%\nSint-Rijkers: 33.3333333333%\nNeerharen: 44.4444444444%\nMark: 33.3333333333%\nKwaremont: 100.0%\nHerstappe: 66.6666666667%\nLoonbeek: 20.0%\nWaterland-Oudeman: 20.0%\nKaaskerke: 42.8571428571%\nMeer: 21.7391304348%\nRanst: 40.0%\nRijkel: 100.0%\nDuisburg: 25.0%\nAlsemberg: 30.0%\nRiksingen: 50.0%\nRomershoven: 28.5714285714%\nSint-Ulriks-Kapelle: 28.5714285714%\nBeervelde: 22.2222222222%\nBekegem: 40.0%\nBeek: 85.7142857143%\nElingen: 29.4117647059%\nZevekote: 100.0%\nBerlingen: 66.6666666667%\nMannekensvere: 33.3333333333%\nEliksem: 50.0%\nMopertingen: 55.5555555556%\nKanegem: 20.0%\nSmetlede: 25.0%\nDikkelvenne: 25.0%\nMunkzwalm: 20.0%\nHuise: 25.0%\nBorlo: 22.2222222222%\nHeks: 28.5714285714%\nWontergem: 36.3636363636%\nSint-Eloois-Winkel: 21.0526315789%\nRessegem: 44.4444444444%\nMespelare: 33.3333333333%\nWespelaar: 41.6666666667%\nWalshoutem: 30.0%\nOverwinden: 44.4444444444%\nOpheers: 50.0%\nVechmaal: 53.8461538462%\nPaulatem: 100.0%\nLille: 20.0%\nWalem: 33.3333333333%\nVoort: 66.6666666667%\nGaasbeek: 33.3333333333%\nLeerbeek: 35.0%\nWijchmaal: 22.2222222222%\nMinderhout: 25.0%\nBeert: 50.0%\nPulle: 33.3333333333%\nEttelgem: 50.0%\nHansbeke: 25.0%\nSlijpe: 26.6666666667%\nHakendover: 22.7272727273%\nZonnegem: 50.0%\nImpe: 26.6666666667%\nTisselt: 33.3333333333%\nBeigem: 33.3333333333%\nVorsen: 100.0%\nVaalbeek: 100.0%\nHamme-Mille: 33.3333333333%\nBurst: 33.3333333333%\nGits: 25.0%\nAspelare: 38.4615384615%\nRonsele: 22.2222222222%\nSchelderode: 100.0%\nVinkt: 33.3333333333%\nHillegem: 22.2222222222%\nNeigem: 37.5%\nOttergem: 100.0%\nHerderen: 33.3333333333%\nMoregem: 25.0%\nWelden: 21.0526315789%\nRosières: 25.0%\nMoere: 33.3333333333%\nKortijs: 60.0%\nDesteldonk: 20.0%\nBoekhoute: 25.0%\nTeralfene: 20.0%\nZottegem: 23.0769230769%\nPervijze: 27.7777777778%\nEdingen: 33.3333333333%\nKerkom: 21.4285714286%\nIdegem: 20.0%\nMeilegem: 66.6666666667%\nSnellegem: 20.0%\nTeuven: 22.2222222222%\nJuprelle: 30.0%\nOppuurs: 23.5294117647%\nWieze: 35.2941176471%\nNeerrepen: 50.0%\nOostwinkel: 36.3636363636%\nRoksem: 33.3333333333%\nBaasrode: 22.2222222222%\nWalsbets: 100.0%\n"
     ],
     "output_type": "stream"
    }
   ],
   "source": [
    "print(\"Town - Stop in range pct\")\n",
    "print(\"------------------------\\n\")\n",
    "\n",
    "for town in stop_in_range_frac_filtered:\n",
    "  print(\"{}: {}%\".format(town[0].encode('utf-8'), town[1] * 100))"
   ]
  }
 ],
 "metadata": {
  "kernelspec": {
   "display_name": "Python 2",
   "language": "python",
   "name": "python2"
  },
  "language_info": {
   "codemirror_mode": {
    "name": "ipython",
    "version": 2
   },
   "file_extension": ".py",
   "mimetype": "text/x-python",
   "name": "python",
   "nbconvert_exporter": "python",
   "pygments_lexer": "ipython2",
   "version": "2.7.15+"
  },
  "pycharm": {
   "stem_cell": {
    "cell_type": "raw",
    "source": [],
    "metadata": {
     "collapsed": false
    }
   }
  }
 },
 "nbformat": 4,
 "nbformat_minor": 1
}